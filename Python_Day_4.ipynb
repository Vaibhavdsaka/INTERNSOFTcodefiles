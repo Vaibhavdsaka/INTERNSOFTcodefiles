{
  "cells": [
    {
      "cell_type": "markdown",
      "metadata": {
        "id": "view-in-github",
        "colab_type": "text"
      },
      "source": [
        "<a href=\"https://colab.research.google.com/github/Vaibhavdsaka/INTERNSOFTcodefiles/blob/main/Python_Day_4.ipynb\" target=\"_parent\"><img src=\"https://colab.research.google.com/assets/colab-badge.svg\" alt=\"Open In Colab\"/></a>"
      ]
    },
    {
      "cell_type": "markdown",
      "metadata": {
        "id": "1or7oRllR3c_"
      },
      "source": [
        "# Object Oriented Programming and File I/O"
      ]
    },
    {
      "cell_type": "markdown",
      "metadata": {
        "id": "6Q7ngd5aR3dD"
      },
      "source": [
        "__Object Oriented Programming (OOP)__ is a programming paradigm that allows abstraction through the concept of interacting entities. This programming works contradictory to conventional model and is procedural, in which programs are organized as a sequence of commands or statements to perform.\n",
        "\n",
        "We can think an object as an entity that resides in memory, has a state and it's able to perform some actions.\n",
        "\n",
        "More formally objects are entities that represent **instances** of a general abstract concept called **class**. In `Python`, \"attributes\" are the variables defining an object state and the possible actions are called \"methods\".\n",
        "\n",
        "In Python, everything is an object also classes and functions."
      ]
    },
    {
      "cell_type": "markdown",
      "metadata": {
        "id": "_CyS1oZVR3dD"
      },
      "source": [
        "## 1 How to define classes"
      ]
    },
    {
      "cell_type": "markdown",
      "metadata": {
        "id": "YTuPY3RfR3dE"
      },
      "source": [
        "### 1.1 Creating a class"
      ]
    },
    {
      "cell_type": "markdown",
      "metadata": {
        "id": "AQbu37hAR3dE"
      },
      "source": [
        "Suppose we want to create a class, named Person, as a prototype, a sort of template for any number of 'Person' objects (instances)."
      ]
    },
    {
      "cell_type": "markdown",
      "metadata": {
        "id": "nJqrwBA-R3dE"
      },
      "source": [
        "The following python syntax defines a class:\n",
        "\n",
        "    class ClassName(base_classes):\n",
        "        statements\n",
        "\n",
        "        "
      ]
    },
    {
      "cell_type": "markdown",
      "metadata": {
        "id": "Aof7V9GlR3dE"
      },
      "source": [
        "Class names should always be uppercase (it's a naming convention)."
      ]
    },
    {
      "cell_type": "markdown",
      "metadata": {
        "id": "opDaYLEzR3dF"
      },
      "source": [
        "Say we need to model a Person as:\n",
        "\n",
        "* Name\n",
        "* Surname  \n",
        "* Age  "
      ]
    },
    {
      "cell_type": "code",
      "execution_count": 9,
      "metadata": {
        "colab": {
          "base_uri": "https://localhost:8080/"
        },
        "id": "WHbwO2Z8R3dF",
        "outputId": "2513a164-1ef0-4df1-a5e2-716c2061bb05"
      },
      "outputs": [
        {
          "output_type": "stream",
          "name": "stdout",
          "text": [
            "<__main__.Person object at 0x7ea0e67e86a0>\n",
            "Alec Baldwin was born in 1958.\n"
          ]
        }
      ],
      "source": [
        "class Person:\n",
        "    pass\n",
        "\n",
        "\n",
        "john_doe = Person()\n",
        "john_doe.name =\"Alec\"\n",
        "john_doe.surname=\"Baldwin\"\n",
        "john_doe.year_of_birth=1958\n",
        "\n",
        "print(john_doe)\n",
        "print(\"%s %s was born in %d.\"%\n",
        "      (john_doe.name, john_doe.surname, john_doe.year_of_birth))\n",
        "\n"
      ]
    },
    {
      "cell_type": "markdown",
      "metadata": {
        "id": "yhgLAUalR3dH"
      },
      "source": [
        "The following example defines an empty class (i.e. the class doesn't have a state) called _Person_ then creates a _Person_ instance called _john_doe_ and adds three attributes to _john_doe_. We see that we can access objects attributes using the \"dot\" operator.\n",
        "\n",
        "This isn't a recommended style because classes should describe homogeneous entities. A way to do so is the following:"
      ]
    },
    {
      "cell_type": "code",
      "execution_count": 10,
      "metadata": {
        "id": "Z_Z9lYYmR3dH"
      },
      "outputs": [],
      "source": [
        "class Person:\n",
        "  def __init__(self,name,surname,year_of_birth):\n",
        "    self.name=name\n",
        "    self.surname=surname\n",
        "    self.year_of_birth=year_of_birth"
      ]
    },
    {
      "cell_type": "markdown",
      "metadata": {
        "id": "xJTMwrvVR3dH"
      },
      "source": [
        "    __init__(self, ...)\n",
        "Is a special _Python_ method that is automatically called after an object construction. Its purpose is to initialize every object state. The first argument (by convention) __self__ is automatically passed either and refers to the object itself.\n",
        "\n",
        "In the preceding example, `__init__` adds three attributes to every object that is instantiated. So the class is actually describing each object's state.\n"
      ]
    },
    {
      "cell_type": "markdown",
      "metadata": {
        "id": "jXqN4eIsR3dH"
      },
      "source": [
        "We cannot directly manipulate any class rather we need to create an instance of the class:"
      ]
    },
    {
      "cell_type": "code",
      "execution_count": 11,
      "metadata": {
        "colab": {
          "base_uri": "https://localhost:8080/"
        },
        "id": "5glC5sZQR3dI",
        "outputId": "cdea2416-77d7-4596-f8f7-da41da8f40a6"
      },
      "outputs": [
        {
          "output_type": "stream",
          "name": "stdout",
          "text": [
            "<__main__.Person object at 0x7ea0e67e9450>\n",
            "Alec Bldwin was born in 1958\n"
          ]
        }
      ],
      "source": [
        "alec =Person(\"Alec\",\"Bldwin\",1958)\n",
        "print(alec)\n",
        "print(\"%s %s was born in %d\"%(alec.name,alec.surname,alec.year_of_birth))\n"
      ]
    },
    {
      "cell_type": "markdown",
      "metadata": {
        "id": "p_XYQmQOR3dI"
      },
      "source": [
        "\n",
        "We have just created an instance of the Person class, bound to the variable `alec`."
      ]
    },
    {
      "cell_type": "markdown",
      "metadata": {
        "id": "dsIUxgwNR3dI"
      },
      "source": [
        "### 1.2 Methods"
      ]
    },
    {
      "cell_type": "code",
      "execution_count": 13,
      "metadata": {
        "colab": {
          "base_uri": "https://localhost:8080/"
        },
        "id": "TQz1XUcBR3dI",
        "outputId": "df4fc993-3fef-4705-ed68-9c2a9dcd0b5d"
      },
      "outputs": [
        {
          "output_type": "stream",
          "name": "stdout",
          "text": [
            "Alec Baldwin was born in 1958.\n",
            "65\n"
          ]
        }
      ],
      "source": [
        "class Person:\n",
        "  def __init__(self,name,surname,year_of_birth):\n",
        "    self.name=name\n",
        "    self.surname=surname\n",
        "    self.year_of_birth=year_of_birth\n",
        "\n",
        "  def age(self, current_year):\n",
        "    return current_year -self.year_of_birth\n",
        "\n",
        "  def __str__(self):\n",
        "    return\"%s %s was born in %d.\"%(self.name,self.surname,self.year_of_birth)\n",
        "\n",
        "alec=Person('Alec',\"Baldwin\",1958)\n",
        "print(alec)\n",
        "print(alec.age(2023))\n"
      ]
    },
    {
      "cell_type": "code",
      "execution_count": null,
      "metadata": {
        "id": "bzgeHSw3R3dI"
      },
      "outputs": [],
      "source": []
    },
    {
      "cell_type": "markdown",
      "metadata": {
        "id": "zl21ShfKR3dI"
      },
      "source": [
        "We defined two more methods `age` and  `__str__`. The latter is once again a special method that is called by Python when the object has to be represented as a string (e.g. when has to be printed). If the `__str__` method isn't defined the **print** command shows the type of object and its address in memory. We can see that in order to call a method we use the same syntax for attributes (**instance_name.instance _method**)."
      ]
    },
    {
      "cell_type": "markdown",
      "metadata": {
        "id": "JdKKL7u5R3dI"
      },
      "source": [
        "## 2 Inheritance"
      ]
    },
    {
      "cell_type": "markdown",
      "metadata": {
        "id": "ZqGoapt0R3dI"
      },
      "source": [
        "Once a class is defined it models a concept. It is useful to extend a class behavior to model a less general concept. Say we need to model a Student, but we know that every student is also a Person so we shouldn't model the Person again but inherit from it instead."
      ]
    },
    {
      "cell_type": "code",
      "execution_count": 16,
      "metadata": {
        "colab": {
          "base_uri": "https://localhost:8080/"
        },
        "id": "G-d6uz62R3dI",
        "outputId": "0e431a61-eb07-425d-94f0-5e9bcd5503d0"
      },
      "outputs": [
        {
          "output_type": "stream",
          "name": "stdout",
          "text": [
            "charlie brown was born in 2002.\n",
            "<class '__main__.Student'>\n",
            "True\n",
            "True\n"
          ]
        }
      ],
      "source": [
        "class Student(Person):\n",
        "  def __init__(self,student_id,*arg,**kwargs):\n",
        "    super(Student,self).__init__(*arg,**kwargs)\n",
        "    self._student_id =student_id\n",
        "\n",
        "charlie=Student(1,'charlie','brown',2002)\n",
        "print(charlie)\n",
        "print(type(charlie))\n",
        "print(isinstance(charlie,Person))\n",
        "print(isinstance(charlie,object))"
      ]
    },
    {
      "cell_type": "markdown",
      "metadata": {
        "id": "LKCzKhr6R3dI"
      },
      "source": [
        "Charlie now has the same behavior of a Person, but his state has also a student ID. A Person is one of the base classes of Student and Student is one of the sub classes of Person. Be aware that a subclass knows about its superclasses but the converse isn't true.\n",
        "\n",
        "A sub class doesn't only inherits from its base classes, but from its base classes too, forming an inheritance tree that starts from a object (every class base class).\n",
        "\n",
        "    super(Class, instance)\n",
        "    \n",
        "is a function that returns a proxy-object that delegates method calls to a parent or sibling class of type.\n",
        "So we used it to access Person's `__init__`."
      ]
    },
    {
      "cell_type": "markdown",
      "metadata": {
        "id": "gPm_Pqu9R3dJ"
      },
      "source": [
        "### 2.1 Overriding methods"
      ]
    },
    {
      "cell_type": "markdown",
      "metadata": {
        "id": "pPRxiocVR3dJ"
      },
      "source": [
        "Inheritance allows to add new methods to a subclass but often is useful to change the behavior of a method defined in the superclass. To override a method just define it again."
      ]
    },
    {
      "cell_type": "code",
      "execution_count": 17,
      "metadata": {
        "colab": {
          "base_uri": "https://localhost:8080/"
        },
        "id": "BgwfgB99R3dJ",
        "outputId": "ce4c4066-62f9-443d-8889-e00f0b824855"
      },
      "outputs": [
        {
          "output_type": "stream",
          "name": "stdout",
          "text": [
            "charlie brown was born in 2002.and has ID: 1\n"
          ]
        }
      ],
      "source": [
        "class Student(Person):\n",
        "  def __init__(self,student_id,*arg,**kwargs):\n",
        "    super(Student,self).__init__(*arg,**kwargs)\n",
        "    self._student_id =student_id\n",
        "\n",
        "  def __str__(self):\n",
        "    return super(Student,self).__str__()+\"and has ID: %d\"% self._student_id\n",
        "\n",
        "charlie=Student(1,'charlie','brown',2002)\n",
        "print(charlie)\n"
      ]
    },
    {
      "cell_type": "markdown",
      "metadata": {
        "id": "Knyznt0cR3dJ"
      },
      "source": [
        "We defined `__str__` again overriding the one wrote in Person, but we wanted to extend it, so we used super to achieve our goal."
      ]
    },
    {
      "cell_type": "markdown",
      "metadata": {
        "id": "KCIuAxcWR3dJ"
      },
      "source": [
        "## 3 Encapsulation"
      ]
    },
    {
      "cell_type": "markdown",
      "metadata": {
        "id": "oLuy5Zz7R3dJ"
      },
      "source": [
        "Encapsulation is an another powerful way to extend a class which consists on wrapping an object with a second one.\n",
        "There are two main reasons to use encapsulation:\n",
        "* Composition\n",
        "* Dynamic Extension\n"
      ]
    },
    {
      "cell_type": "markdown",
      "metadata": {
        "id": "T0Gfoq5IR3dJ"
      },
      "source": [
        "### 3.1 Composition"
      ]
    },
    {
      "cell_type": "markdown",
      "metadata": {
        "id": "XHdG5PwDR3dJ"
      },
      "source": [
        "The abstraction process relies on creating a simplified model that remove useless details from a concept. In order to be simplified, a model should be described in terms of other simpler concepts.\n",
        "For example, we can say that a car is composed by:\n",
        "* Tyres\n",
        "* Engine\n",
        "* Body\n",
        "\n",
        "And break down each one of these elements in simpler parts until we reach primitive data."
      ]
    },
    {
      "cell_type": "markdown",
      "metadata": {
        "id": "iG0KKenNR3dJ"
      },
      "source": [
        "## 4 Polymorphism and DuckTyping"
      ]
    },
    {
      "cell_type": "markdown",
      "metadata": {
        "id": "WkN3u51yR3dJ"
      },
      "source": [
        "`Python` uses dynamic typing which is also called as duck typing. If an object implements a method you can use it, irrespective of the type. This is different from statically typed languages, where the type of a construct need to be explicitly declared. Polymorphism is the ability to use the same syntax for objects of different types:"
      ]
    },
    {
      "cell_type": "code",
      "execution_count": 18,
      "metadata": {
        "colab": {
          "base_uri": "https://localhost:8080/"
        },
        "id": "qDNgOia9R3dK",
        "outputId": "b0e719b3-6aab-4d10-810e-09bba0d4b0a4"
      },
      "outputs": [
        {
          "output_type": "stream",
          "name": "stdout",
          "text": [
            "2\n",
            "['a', 'b', 'c', 'd', 'e']\n",
            "abracadabra\n"
          ]
        }
      ],
      "source": [
        "def summer(a,b):\n",
        "  return a+b\n",
        "\n",
        "print(summer(1, 1))\n",
        "print(summer([\"a\",\"b\",\"c\"],[\"d\",\"e\"]))\n",
        "print(summer(\"abra\",\"cadabra\"))"
      ]
    },
    {
      "cell_type": "markdown",
      "metadata": {
        "id": "ZCHUHM4rR3dK"
      },
      "source": [
        "## 5 How long does a class should be?"
      ]
    },
    {
      "cell_type": "markdown",
      "metadata": {
        "id": "snbQvLlaR3dK"
      },
      "source": [
        "There is an Object Oriented Programming (OOP) principle called Single Responsibility Principle (SRP) and it states: \"A class should have one single responsibility\" or \"A class should have only one reason to change\".\n",
        "\n",
        "If you come across a class which doesn't follow the SRP principle, you should spilt it. You will be grateful to SRP during your software maintenance."
      ]
    },
    {
      "cell_type": "markdown",
      "metadata": {
        "id": "-GELKHZQR3dK"
      },
      "source": [
        "# Files\n",
        "\n",
        "Python uses file objects to interact with the external files on your computer. These file objects cab be of any file format on your computer i.e. can be an audio file, a text file, emails, Excel documents, etc. Note that You will probably need to install certain libraries or modules to interact with those various file types, but they are easily available. (We will cover downloading modules later on in the course).\n",
        "\n",
        "Python has a built-in open function that allows us to open and play with basic file types. First we will need a file though. We're going to use some iPython magic to create a text file!\n",
        "\n",
        "## iPython Writing a File"
      ]
    },
    {
      "cell_type": "code",
      "execution_count": 27,
      "metadata": {
        "colab": {
          "base_uri": "https://localhost:8080/"
        },
        "id": "lkgJuOB9R3dK",
        "outputId": "aaf07835-18e4-45dd-822a-f558ada74e93"
      },
      "outputs": [
        {
          "output_type": "stream",
          "name": "stdout",
          "text": [
            "Writing vibe.txt\n"
          ]
        }
      ],
      "source": [
        "%%writefile vibe.txt\n",
        "hello, this is a quick vibe text file\n",
        "\n",
        "writing vibe.txt"
      ]
    },
    {
      "cell_type": "markdown",
      "metadata": {
        "id": "czOnZT_nR3dK"
      },
      "source": [
        "## Python Opening a file\n",
        "\n",
        "We can open a file with the open() function. This function also takes in arguments (also called parameters). Let's see how this is used:"
      ]
    },
    {
      "cell_type": "code",
      "execution_count": 28,
      "metadata": {
        "id": "rqLUFlWAR3dL"
      },
      "outputs": [],
      "source": [
        "# Open the text.txt we made earlier\n",
        "my_file= open('vibe.txt')"
      ]
    },
    {
      "cell_type": "code",
      "execution_count": 29,
      "metadata": {
        "colab": {
          "base_uri": "https://localhost:8080/",
          "height": 35
        },
        "id": "9coXPZyXR3dL",
        "outputId": "1f7921d5-c8f2-49bb-f452-5264c8cf2185"
      },
      "outputs": [
        {
          "output_type": "execute_result",
          "data": {
            "text/plain": [
              "'hello, this is a quick vibe text file\\n\\nwriting vibe.txt\\n'"
            ],
            "application/vnd.google.colaboratory.intrinsic+json": {
              "type": "string"
            }
          },
          "metadata": {},
          "execution_count": 29
        }
      ],
      "source": [
        "# We can now read the file\n",
        "my_file.read()"
      ]
    },
    {
      "cell_type": "code",
      "execution_count": 30,
      "metadata": {
        "colab": {
          "base_uri": "https://localhost:8080/",
          "height": 35
        },
        "id": "MpnEC_TKR3dM",
        "outputId": "9a9bc467-c1b2-4bd4-d470-a9af029454f3"
      },
      "outputs": [
        {
          "output_type": "execute_result",
          "data": {
            "text/plain": [
              "''"
            ],
            "application/vnd.google.colaboratory.intrinsic+json": {
              "type": "string"
            }
          },
          "metadata": {},
          "execution_count": 30
        }
      ],
      "source": [
        "# But what happens if we try to read it again?\n",
        "my_file.read()"
      ]
    },
    {
      "cell_type": "markdown",
      "metadata": {
        "id": "dKQQkjTQR3dM"
      },
      "source": [
        "This happens because you can imagine the reading \"cursor\" is at the end of the file after having read it. So there is nothing left to read. We can reset the \"cursor\" like this:"
      ]
    },
    {
      "cell_type": "code",
      "execution_count": 31,
      "metadata": {
        "colab": {
          "base_uri": "https://localhost:8080/"
        },
        "id": "49kQApXSR3dM",
        "outputId": "a07a5057-2236-4f79-9a80-f25c0a872b19"
      },
      "outputs": [
        {
          "output_type": "execute_result",
          "data": {
            "text/plain": [
              "0"
            ]
          },
          "metadata": {},
          "execution_count": 31
        }
      ],
      "source": [
        "# Seek to the start of file (index 0)\n",
        "my_file.seek(0)"
      ]
    },
    {
      "cell_type": "code",
      "execution_count": 32,
      "metadata": {
        "colab": {
          "base_uri": "https://localhost:8080/",
          "height": 35
        },
        "id": "RoIv3v3ZR3dM",
        "outputId": "492c130b-2705-4fba-dfde-c70cb77de1aa"
      },
      "outputs": [
        {
          "output_type": "execute_result",
          "data": {
            "text/plain": [
              "'hello, this is a quick vibe text file\\n\\nwriting vibe.txt\\n'"
            ],
            "application/vnd.google.colaboratory.intrinsic+json": {
              "type": "string"
            }
          },
          "metadata": {},
          "execution_count": 32
        }
      ],
      "source": [
        "# Now read again\n",
        "my_file.read()"
      ]
    },
    {
      "cell_type": "markdown",
      "metadata": {
        "id": "j9lmxydeR3dM"
      },
      "source": [
        "In order to not have to reset every time, we can also use the readlines method. Use caution with large files, since everything will be held in memory. We will learn how to iterate over large files later in the course."
      ]
    },
    {
      "cell_type": "code",
      "execution_count": 33,
      "metadata": {
        "colab": {
          "base_uri": "https://localhost:8080/"
        },
        "id": "jc0EYziNR3dM",
        "outputId": "5992fbe7-bf51-4616-a2c9-9dec041cd475"
      },
      "outputs": [
        {
          "output_type": "execute_result",
          "data": {
            "text/plain": [
              "0"
            ]
          },
          "metadata": {},
          "execution_count": 33
        }
      ],
      "source": [
        "# Seek to the start of file (index 0)\n",
        "my_file.seek(0)"
      ]
    },
    {
      "cell_type": "code",
      "execution_count": 34,
      "metadata": {
        "colab": {
          "base_uri": "https://localhost:8080/"
        },
        "id": "pC9oDxtLR3dM",
        "outputId": "1d8c1c58-6e23-4b75-8893-6d36e9fe5dc4"
      },
      "outputs": [
        {
          "output_type": "execute_result",
          "data": {
            "text/plain": [
              "['hello, this is a quick vibe text file\\n', '\\n', 'writing vibe.txt\\n']"
            ]
          },
          "metadata": {},
          "execution_count": 34
        }
      ],
      "source": [
        "# Readlines returns a list of the lines in the file.\n",
        "my_file.readlines()"
      ]
    },
    {
      "cell_type": "markdown",
      "metadata": {
        "id": "9vci3JeGR3dN"
      },
      "source": [
        "## Writing to a File\n",
        "\n",
        "By default, using the open() function will only allow us to read the file, we need to pass the argument 'w' to write over the file. For example:"
      ]
    },
    {
      "cell_type": "code",
      "execution_count": 35,
      "metadata": {
        "id": "WdOl8WufR3dN"
      },
      "outputs": [],
      "source": [
        "# Add the second argument to the function, 'w' which stands for write\n",
        "my_file=open ('test.txt','w+')\n"
      ]
    },
    {
      "cell_type": "code",
      "execution_count": 36,
      "metadata": {
        "colab": {
          "base_uri": "https://localhost:8080/"
        },
        "id": "DZ_OWNPAR3dN",
        "outputId": "ae507cfc-d039-4a33-adeb-8df700792ff7"
      },
      "outputs": [
        {
          "output_type": "execute_result",
          "data": {
            "text/plain": [
              "18"
            ]
          },
          "metadata": {},
          "execution_count": 36
        }
      ],
      "source": [
        "# Write to the file\n",
        "my_file.write('this is a new line')\n"
      ]
    },
    {
      "cell_type": "code",
      "execution_count": 37,
      "metadata": {
        "colab": {
          "base_uri": "https://localhost:8080/"
        },
        "id": "VAAcsbtAR3dN",
        "outputId": "eee6f8ef-a6dc-4f6b-d0cc-3fd3ef0bf719"
      },
      "outputs": [
        {
          "output_type": "execute_result",
          "data": {
            "text/plain": [
              "0"
            ]
          },
          "metadata": {},
          "execution_count": 37
        }
      ],
      "source": [
        "# Seek to the start of file (index 0)\n",
        "my_file.seek(0)"
      ]
    },
    {
      "cell_type": "code",
      "execution_count": 38,
      "metadata": {
        "colab": {
          "base_uri": "https://localhost:8080/",
          "height": 35
        },
        "id": "Ewak6Tf8R3dN",
        "outputId": "20f97ccb-ceaf-4349-e202-a1b35a9a540f"
      },
      "outputs": [
        {
          "output_type": "execute_result",
          "data": {
            "text/plain": [
              "'this is a new line'"
            ],
            "application/vnd.google.colaboratory.intrinsic+json": {
              "type": "string"
            }
          },
          "metadata": {},
          "execution_count": 38
        }
      ],
      "source": [
        "# Read the file\n",
        "my_file.read()"
      ]
    },
    {
      "cell_type": "markdown",
      "metadata": {
        "id": "M4t6O3u_R3dN"
      },
      "source": [
        "## Iterating through a File\n",
        "\n",
        "Let's get a quick preview of a for loop by iterating over a text file. First, let's make a new text file with some iPython Magic:"
      ]
    },
    {
      "cell_type": "code",
      "execution_count": 39,
      "metadata": {
        "colab": {
          "base_uri": "https://localhost:8080/"
        },
        "id": "9M5aU632R3dN",
        "outputId": "29b0d18e-5f4e-4399-8ad3-3acd67694b15"
      },
      "outputs": [
        {
          "output_type": "stream",
          "name": "stdout",
          "text": [
            "Overwriting test.txt\n"
          ]
        }
      ],
      "source": [
        "%%writefile test.txt\n",
        "first line\n",
        "second line"
      ]
    },
    {
      "cell_type": "markdown",
      "metadata": {
        "id": "19yRJOe1R3dN"
      },
      "source": [
        "Now we can use a little bit of flow to tell the program to for through every line of the file and do something:"
      ]
    },
    {
      "cell_type": "code",
      "execution_count": 40,
      "metadata": {
        "colab": {
          "base_uri": "https://localhost:8080/"
        },
        "id": "pibfO_EdR3dN",
        "outputId": "8710584f-3b2c-4c13-ea55-363187c11e40"
      },
      "outputs": [
        {
          "output_type": "stream",
          "name": "stdout",
          "text": [
            "first line\n",
            "\n",
            "second line\n",
            "\n"
          ]
        }
      ],
      "source": [
        "for line in open('test.txt'):\n",
        "  print(line)"
      ]
    },
    {
      "cell_type": "code",
      "execution_count": 41,
      "metadata": {
        "colab": {
          "base_uri": "https://localhost:8080/"
        },
        "id": "9W_dkOoHR3dO",
        "outputId": "ce784a0d-9739-4633-e4f6-1604c5ab9e70"
      },
      "outputs": [
        {
          "output_type": "stream",
          "name": "stdout",
          "text": [
            "first line\n",
            "\n",
            "second line\n",
            "\n"
          ]
        }
      ],
      "source": [
        "# Pertaining to the first point above\n",
        "for asdf in open ('test.txt'):\n",
        "  print(asdf)"
      ]
    },
    {
      "cell_type": "markdown",
      "metadata": {
        "id": "s0ppQZFGR3dO"
      },
      "source": [
        "# StringIO\n",
        "\n",
        "The StringIO module implements an in-memory filelike object. This object can then be used as input or output to most functions that would expect a standard file object.\n",
        "\n",
        "The best way to show this is by example:"
      ]
    },
    {
      "cell_type": "code",
      "execution_count": 49,
      "metadata": {
        "id": "G-NwlMPTR3dO"
      },
      "outputs": [],
      "source": [
        "from io import StringIO"
      ]
    },
    {
      "cell_type": "code",
      "execution_count": 50,
      "metadata": {
        "id": "-8A0wM-SR3dO"
      },
      "outputs": [],
      "source": [
        "# Arbitrary String\n",
        "message='this is just a normal string .'\n"
      ]
    },
    {
      "cell_type": "code",
      "execution_count": 51,
      "metadata": {
        "id": "d6vGCsSGR3dO"
      },
      "outputs": [],
      "source": [
        "# Use StringIO method to set as file object\n",
        "f=StringIO(message)"
      ]
    },
    {
      "cell_type": "markdown",
      "metadata": {
        "id": "50VbwYFaR3dO"
      },
      "source": [
        "Now we have an object *f* that we will be able to treat just like a file. For example:"
      ]
    },
    {
      "cell_type": "code",
      "execution_count": 52,
      "metadata": {
        "colab": {
          "base_uri": "https://localhost:8080/",
          "height": 35
        },
        "id": "fyv_D-_NR3dO",
        "outputId": "7ffcc604-3b0b-440b-a69e-d84beb3d81fe"
      },
      "outputs": [
        {
          "output_type": "execute_result",
          "data": {
            "text/plain": [
              "'this is just a normal string .'"
            ],
            "application/vnd.google.colaboratory.intrinsic+json": {
              "type": "string"
            }
          },
          "metadata": {},
          "execution_count": 52
        }
      ],
      "source": [
        "f.read()"
      ]
    },
    {
      "cell_type": "markdown",
      "metadata": {
        "id": "Av_F4CkvR3dO"
      },
      "source": [
        "We can also write to it"
      ]
    },
    {
      "cell_type": "code",
      "execution_count": 53,
      "metadata": {
        "colab": {
          "base_uri": "https://localhost:8080/"
        },
        "id": "ptuLbm-IR3dO",
        "outputId": "14e815f3-15aa-4152-b70c-8efe555c198f"
      },
      "outputs": [
        {
          "output_type": "execute_result",
          "data": {
            "text/plain": [
              "40"
            ]
          },
          "metadata": {},
          "execution_count": 53
        }
      ],
      "source": [
        "f.write(' second line written to file likr object')"
      ]
    },
    {
      "cell_type": "code",
      "execution_count": 54,
      "metadata": {
        "colab": {
          "base_uri": "https://localhost:8080/"
        },
        "id": "MNj_grjVR3dO",
        "outputId": "7e78814b-f8fe-4411-fefe-b468ce7d631c"
      },
      "outputs": [
        {
          "output_type": "execute_result",
          "data": {
            "text/plain": [
              "0"
            ]
          },
          "metadata": {},
          "execution_count": 54
        }
      ],
      "source": [
        "# Reset cursor just like you would a file\n",
        "f.seek(0)"
      ]
    },
    {
      "cell_type": "code",
      "execution_count": 55,
      "metadata": {
        "colab": {
          "base_uri": "https://localhost:8080/",
          "height": 35
        },
        "id": "HKDA1m8cR3dP",
        "outputId": "db54ec80-6f25-44ba-fbc2-6e6f4d251c81"
      },
      "outputs": [
        {
          "output_type": "execute_result",
          "data": {
            "text/plain": [
              "'this is just a normal string . second line written to file likr object'"
            ],
            "application/vnd.google.colaboratory.intrinsic+json": {
              "type": "string"
            }
          },
          "metadata": {},
          "execution_count": 55
        }
      ],
      "source": [
        "# Read again\n",
        "f.read()"
      ]
    },
    {
      "cell_type": "code",
      "execution_count": null,
      "metadata": {
        "id": "USdxT-7oR3dP"
      },
      "outputs": [],
      "source": []
    }
  ],
  "metadata": {
    "kernelspec": {
      "display_name": "Python 3",
      "language": "python",
      "name": "python3"
    },
    "language_info": {
      "codemirror_mode": {
        "name": "ipython",
        "version": 3
      },
      "file_extension": ".py",
      "mimetype": "text/x-python",
      "name": "python",
      "nbconvert_exporter": "python",
      "pygments_lexer": "ipython3",
      "version": "3.7.3"
    },
    "colab": {
      "provenance": [],
      "include_colab_link": true
    }
  },
  "nbformat": 4,
  "nbformat_minor": 0
}