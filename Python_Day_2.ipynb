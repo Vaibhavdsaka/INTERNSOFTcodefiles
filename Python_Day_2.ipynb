{
  "cells": [
    {
      "cell_type": "markdown",
      "metadata": {
        "id": "view-in-github",
        "colab_type": "text"
      },
      "source": [
        "<a href=\"https://colab.research.google.com/github/Vaibhavdsaka/INTERNSOFTcodefiles/blob/main/Python_Day_2.ipynb\" target=\"_parent\"><img src=\"https://colab.research.google.com/assets/colab-badge.svg\" alt=\"Open In Colab\"/></a>"
      ]
    },
    {
      "cell_type": "markdown",
      "metadata": {
        "id": "CpdR2FofFDJ7"
      },
      "source": [
        "# Session 2 - Strings and list objects"
      ]
    },
    {
      "cell_type": "markdown",
      "metadata": {
        "id": "h8LcyXYsFDJ9"
      },
      "source": [
        "# Strings"
      ]
    },
    {
      "cell_type": "markdown",
      "metadata": {
        "id": "GxtMQME9FDJ9"
      },
      "source": [
        "Strings are used to record the text information such as name. In Python, Strings act as “Sequence” which means Python tracks every element in the String as a sequence. This is one of the important features of the Python language.\n",
        "\n",
        "For example, Python understands the string \"hello' to be a sequence of letters in a specific order which means the indexing technique to grab particular letters (like first letter or the last letter)."
      ]
    },
    {
      "cell_type": "markdown",
      "metadata": {
        "id": "odCQG71jFDKH"
      },
      "source": [
        "## Creating a String\n",
        "In Python, either single quote (‘) or double quotes (“) must be used while creating a string.\n",
        "\n",
        "    For example:"
      ]
    },
    {
      "cell_type": "code",
      "execution_count": null,
      "metadata": {
        "colab": {
          "base_uri": "https://localhost:8080/",
          "height": 35
        },
        "id": "xstDsljBFDKI",
        "outputId": "e837c33e-c1b5-43e1-cee2-e59e27c215e4"
      },
      "outputs": [
        {
          "output_type": "execute_result",
          "data": {
            "text/plain": [
              "'hello'"
            ],
            "application/vnd.google.colaboratory.intrinsic+json": {
              "type": "string"
            }
          },
          "metadata": {},
          "execution_count": 1
        }
      ],
      "source": [
        "# Single word\n",
        "'hello'"
      ]
    },
    {
      "cell_type": "code",
      "execution_count": null,
      "metadata": {
        "colab": {
          "base_uri": "https://localhost:8080/",
          "height": 35
        },
        "id": "d20Mxr86FDKJ",
        "outputId": "22e66638-721e-4aa9-8040-29abe8b49c76"
      },
      "outputs": [
        {
          "output_type": "execute_result",
          "data": {
            "text/plain": [
              "'this is also a string'"
            ],
            "application/vnd.google.colaboratory.intrinsic+json": {
              "type": "string"
            }
          },
          "metadata": {},
          "execution_count": 2
        }
      ],
      "source": [
        "# Entire phrase\n",
        "'this is also a string'"
      ]
    },
    {
      "cell_type": "code",
      "execution_count": null,
      "metadata": {
        "colab": {
          "base_uri": "https://localhost:8080/",
          "height": 35
        },
        "id": "VPbp-G9rFDKJ",
        "outputId": "6749546d-3b79-4021-fce7-7674246485e9"
      },
      "outputs": [
        {
          "output_type": "execute_result",
          "data": {
            "text/plain": [
              "'string build with double quotes'"
            ],
            "application/vnd.google.colaboratory.intrinsic+json": {
              "type": "string"
            }
          },
          "metadata": {},
          "execution_count": 3
        }
      ],
      "source": [
        "# We can also use double quote\n",
        "\"string build with double quotes\""
      ]
    },
    {
      "cell_type": "code",
      "execution_count": null,
      "metadata": {
        "colab": {
          "base_uri": "https://localhost:8080/",
          "height": 35
        },
        "id": "H7KdTFeiFDKJ",
        "outputId": "7062464f-4ea3-4ad7-f9f3-085e46829033"
      },
      "outputs": [
        {
          "output_type": "execute_result",
          "data": {
            "text/plain": [
              "\"i'm using single ,but will give an error\""
            ],
            "application/vnd.google.colaboratory.intrinsic+json": {
              "type": "string"
            }
          },
          "metadata": {},
          "execution_count": 4
        }
      ],
      "source": [
        "# Be careful with quotes!\n",
        "\"i'm using single ,but will give an error\""
      ]
    },
    {
      "cell_type": "markdown",
      "metadata": {
        "id": "sSSfPpTwFDKK"
      },
      "source": [
        "The above code results in an error as the text “I’m” stops the string. Here, a combination of single quotes and double quotes can be used to get the complete statement."
      ]
    },
    {
      "cell_type": "code",
      "execution_count": null,
      "metadata": {
        "colab": {
          "base_uri": "https://localhost:8080/",
          "height": 35
        },
        "id": "KeZfe7bDFDKK",
        "outputId": "8ccffba2-a65b-47fb-f53b-29e54e7cef20"
      },
      "outputs": [
        {
          "output_type": "execute_result",
          "data": {
            "text/plain": [
              "\"now i'am ready to use the single quotes inside a string\""
            ],
            "application/vnd.google.colaboratory.intrinsic+json": {
              "type": "string"
            }
          },
          "metadata": {},
          "execution_count": 5
        }
      ],
      "source": [
        "\"now i'am ready to use the single quotes inside a string\""
      ]
    },
    {
      "cell_type": "markdown",
      "metadata": {
        "id": "ZrFp2RL4FDKK"
      },
      "source": [
        "Now let's learn about printing strings!"
      ]
    },
    {
      "cell_type": "markdown",
      "metadata": {
        "id": "Ojn5z1XDFDKK"
      },
      "source": [
        "## Printing a String\n",
        "\n",
        "We can automatically display the output strings using Jupyter notebook with just a string in a cell. But,the correct way to display strings in your output is by using a print function."
      ]
    },
    {
      "cell_type": "code",
      "execution_count": null,
      "metadata": {
        "colab": {
          "base_uri": "https://localhost:8080/",
          "height": 35
        },
        "id": "RYkbAyPMFDKK",
        "outputId": "491980f7-2c11-44b8-aca8-65dbb1513434"
      },
      "outputs": [
        {
          "output_type": "execute_result",
          "data": {
            "text/plain": [
              "'hello world'"
            ],
            "application/vnd.google.colaboratory.intrinsic+json": {
              "type": "string"
            }
          },
          "metadata": {},
          "execution_count": 6
        }
      ],
      "source": [
        "# We can simply declare a string\n",
        "'hello world'"
      ]
    },
    {
      "cell_type": "code",
      "execution_count": null,
      "metadata": {
        "colab": {
          "base_uri": "https://localhost:8080/",
          "height": 53
        },
        "id": "aA5jM7BqFDKK",
        "outputId": "20ee6423-8a2d-490a-8215-e9aa83076990"
      },
      "outputs": [
        {
          "output_type": "stream",
          "name": "stdout",
          "text": [
            "hello world 1\n"
          ]
        },
        {
          "output_type": "execute_result",
          "data": {
            "text/plain": [
              "'hello world 2'"
            ],
            "application/vnd.google.colaboratory.intrinsic+json": {
              "type": "string"
            }
          },
          "metadata": {},
          "execution_count": 7
        }
      ],
      "source": [
        "# note that we can't output multiple strings this way\n",
        "print('hello world 1')\n",
        "'hello world 2'"
      ]
    },
    {
      "cell_type": "markdown",
      "metadata": {
        "id": "NQSmy56xFDKL"
      },
      "source": [
        "In Python 2, the output of the below code snippet is displayed using \"print\" statement as shown in the below syntax but the same syntax will throw error in Python 3."
      ]
    },
    {
      "cell_type": "code",
      "execution_count": null,
      "metadata": {
        "colab": {
          "base_uri": "https://localhost:8080/",
          "height": 141
        },
        "id": "apcOPslhFDKL",
        "outputId": "41d03626-92a7-45f9-e08f-9a8667e19b98"
      },
      "outputs": [
        {
          "output_type": "error",
          "ename": "SyntaxError",
          "evalue": "ignored",
          "traceback": [
            "\u001b[0;36m  File \u001b[0;32m\"<ipython-input-9-3a91d27e8efd>\"\u001b[0;36m, line \u001b[0;32m1\u001b[0m\n\u001b[0;31m    print 'hello world'\u001b[0m\n\u001b[0m    ^\u001b[0m\n\u001b[0;31mSyntaxError\u001b[0m\u001b[0;31m:\u001b[0m Missing parentheses in call to 'print'. Did you mean print(...)?\n"
          ]
        }
      ],
      "source": [
        "print 'hello world'\n",
        "print 'hello world1'\n",
        "print 'use \\n to print a new line'\n",
        "print '\\n'\n",
        "print 'see what i mean?'"
      ]
    },
    {
      "cell_type": "markdown",
      "metadata": {
        "collapsed": true,
        "id": "_wx32yUsFDKL"
      },
      "source": [
        "### <font color='red'>Python 3 Alert!</font>"
      ]
    },
    {
      "cell_type": "markdown",
      "metadata": {
        "id": "8_8SVqDxFDKL"
      },
      "source": [
        "Note that, In Python 3, print is a function and not a statement. So you would print statements like this:\n",
        "print('Hello World')\n",
        "\n",
        "If you want to use this functionality in Python2, you can import form the __future__ module.\n",
        "\n",
        "**Caution: After importing this; you won't be able to choose the print statement method anymore. So pick the right one whichever  you prefer depending on your Python installation and continue on with it.**"
      ]
    },
    {
      "cell_type": "code",
      "execution_count": null,
      "metadata": {
        "colab": {
          "base_uri": "https://localhost:8080/",
          "height": 141
        },
        "id": "vD-W4br-FDKL",
        "outputId": "7e15a156-db4f-4d4c-ac98-c22426b6f915"
      },
      "outputs": [
        {
          "output_type": "error",
          "ename": "SyntaxError",
          "evalue": "ignored",
          "traceback": [
            "\u001b[0;36m  File \u001b[0;32m\"<ipython-input-10-2c434dbdbd35>\"\u001b[0;36m, line \u001b[0;32m2\u001b[0m\n\u001b[0;31m    from__future__import print_function\u001b[0m\n\u001b[0m                         ^\u001b[0m\n\u001b[0;31mSyntaxError\u001b[0m\u001b[0;31m:\u001b[0m invalid syntax\n"
          ]
        }
      ],
      "source": [
        "# To use print function from Python 3 in Python 2\n",
        "from__future__import print_function\n",
        "\n",
        "print 'hello world'"
      ]
    },
    {
      "cell_type": "markdown",
      "metadata": {
        "id": "6tTPaIwyFDKL"
      },
      "source": [
        "## String Basics"
      ]
    },
    {
      "cell_type": "markdown",
      "metadata": {
        "id": "ld01Fg2UFDKL"
      },
      "source": [
        "In Strings, the length of the string can be found out by using a function called len()."
      ]
    },
    {
      "cell_type": "code",
      "execution_count": null,
      "metadata": {
        "colab": {
          "base_uri": "https://localhost:8080/"
        },
        "id": "MfxNtecwFDKL",
        "outputId": "a35759e6-e821-4740-b333-cf40f498a89e"
      },
      "outputs": [
        {
          "output_type": "execute_result",
          "data": {
            "text/plain": [
              "11"
            ]
          },
          "metadata": {},
          "execution_count": 11
        }
      ],
      "source": [
        "len('hello world')"
      ]
    },
    {
      "cell_type": "markdown",
      "metadata": {
        "id": "tPcsGPdvFDKL"
      },
      "source": [
        "## String Indexing\n",
        "We know strings are a sequence, which means Python can use indexes to call all the sequence parts. Let's learn how String Indexing works.\n",
        "•\tWe use brackets [] after an object to call its index.\n",
        "•\tWe should also note that indexing starts at 0 for Python.\n",
        "Now, Let's create a new object called s and the walk through a few examples of indexing."
      ]
    },
    {
      "cell_type": "code",
      "execution_count": null,
      "metadata": {
        "id": "aq6Qok6WFDKM"
      },
      "outputs": [],
      "source": [
        "# Assign s as a string\n",
        "s= 'hello world'"
      ]
    },
    {
      "cell_type": "code",
      "execution_count": null,
      "metadata": {
        "colab": {
          "base_uri": "https://localhost:8080/",
          "height": 35
        },
        "id": "LOD6eilnFDKM",
        "outputId": "b7ec30c7-ed98-4229-8522-f8a9f90522d1"
      },
      "outputs": [
        {
          "output_type": "execute_result",
          "data": {
            "text/plain": [
              "'hello world'"
            ],
            "application/vnd.google.colaboratory.intrinsic+json": {
              "type": "string"
            }
          },
          "metadata": {},
          "execution_count": 42
        }
      ],
      "source": [
        "#Check\n",
        "s"
      ]
    },
    {
      "cell_type": "code",
      "execution_count": null,
      "metadata": {
        "colab": {
          "base_uri": "https://localhost:8080/"
        },
        "id": "NcP17kjGFDKM",
        "outputId": "a4aed4d0-73d8-45c5-eb6a-15eb72fd3be1"
      },
      "outputs": [
        {
          "output_type": "stream",
          "name": "stdout",
          "text": [
            "hello world\n"
          ]
        }
      ],
      "source": [
        "# Print the object\n",
        "print(s)"
      ]
    },
    {
      "cell_type": "markdown",
      "metadata": {
        "id": "kdIl_72AFDKM"
      },
      "source": [
        "Let's start indexing!"
      ]
    },
    {
      "cell_type": "code",
      "execution_count": null,
      "metadata": {
        "colab": {
          "base_uri": "https://localhost:8080/",
          "height": 35
        },
        "id": "lsvLELomFDKM",
        "outputId": "03b0f25e-4f5b-4a69-cc84-024cb114759a"
      },
      "outputs": [
        {
          "output_type": "execute_result",
          "data": {
            "text/plain": [
              "'h'"
            ],
            "application/vnd.google.colaboratory.intrinsic+json": {
              "type": "string"
            }
          },
          "metadata": {},
          "execution_count": 16
        }
      ],
      "source": [
        "# Show first element (in this case a letter)\n",
        "s[0]"
      ]
    },
    {
      "cell_type": "code",
      "execution_count": null,
      "metadata": {
        "colab": {
          "base_uri": "https://localhost:8080/",
          "height": 35
        },
        "id": "_SVRPx2tFDKM",
        "outputId": "62ffeb42-fa88-4a71-c194-83996ca99a3d"
      },
      "outputs": [
        {
          "output_type": "execute_result",
          "data": {
            "text/plain": [
              "'e'"
            ],
            "application/vnd.google.colaboratory.intrinsic+json": {
              "type": "string"
            }
          },
          "metadata": {},
          "execution_count": 17
        }
      ],
      "source": [
        "s[1]"
      ]
    },
    {
      "cell_type": "code",
      "execution_count": null,
      "metadata": {
        "colab": {
          "base_uri": "https://localhost:8080/",
          "height": 35
        },
        "id": "gKXRDcX1FDKM",
        "outputId": "d6b98058-6ac7-4603-d36a-5c1512e93c17"
      },
      "outputs": [
        {
          "output_type": "execute_result",
          "data": {
            "text/plain": [
              "'l'"
            ],
            "application/vnd.google.colaboratory.intrinsic+json": {
              "type": "string"
            }
          },
          "metadata": {},
          "execution_count": 18
        }
      ],
      "source": [
        "s[3]"
      ]
    },
    {
      "cell_type": "markdown",
      "metadata": {
        "id": "uuID8n1xFDKM"
      },
      "source": [
        "We can use a : to perform *slicing* which grabs everything up to a designated point. For example:"
      ]
    },
    {
      "cell_type": "code",
      "execution_count": null,
      "metadata": {
        "colab": {
          "base_uri": "https://localhost:8080/",
          "height": 35
        },
        "id": "8ZOfmO7EFDKM",
        "outputId": "804adc4f-0380-4059-f561-9f88dfa768e5"
      },
      "outputs": [
        {
          "output_type": "execute_result",
          "data": {
            "text/plain": [
              "'ello world'"
            ],
            "application/vnd.google.colaboratory.intrinsic+json": {
              "type": "string"
            }
          },
          "metadata": {},
          "execution_count": 19
        }
      ],
      "source": [
        "# Grab everything past the first term all the way to the length of s which is len(s)\n",
        "s[1:]"
      ]
    },
    {
      "cell_type": "code",
      "execution_count": null,
      "metadata": {
        "colab": {
          "base_uri": "https://localhost:8080/",
          "height": 35
        },
        "id": "fk3HXm68FDKM",
        "outputId": "5b054e57-82f7-4aaf-b366-4e74e4ca0678"
      },
      "outputs": [
        {
          "output_type": "execute_result",
          "data": {
            "text/plain": [
              "'hello world'"
            ],
            "application/vnd.google.colaboratory.intrinsic+json": {
              "type": "string"
            }
          },
          "metadata": {},
          "execution_count": 20
        }
      ],
      "source": [
        "# Note that there is no change to the original s\n",
        "s"
      ]
    },
    {
      "cell_type": "code",
      "execution_count": null,
      "metadata": {
        "colab": {
          "base_uri": "https://localhost:8080/",
          "height": 35
        },
        "id": "shSungsJFDKM",
        "outputId": "f5b3d06e-425a-4085-dedd-117c6d6b2166"
      },
      "outputs": [
        {
          "output_type": "execute_result",
          "data": {
            "text/plain": [
              "'lo world'"
            ],
            "application/vnd.google.colaboratory.intrinsic+json": {
              "type": "string"
            }
          },
          "metadata": {},
          "execution_count": 21
        }
      ],
      "source": [
        "# Grab everything UP TO the 3rd index\n",
        "s[3:]"
      ]
    },
    {
      "cell_type": "markdown",
      "metadata": {
        "id": "oKfT2mCOFDKN"
      },
      "source": [
        "Note the above slicing. Here we're telling Python to grab everything from 0 up to 3. It doesn't include the 3rd index. You'll notice this a lot in Python, where statements and are usually in the context of \"up to, but not including\"."
      ]
    },
    {
      "cell_type": "code",
      "execution_count": null,
      "metadata": {
        "colab": {
          "base_uri": "https://localhost:8080/",
          "height": 35
        },
        "id": "UCWsHfehFDKN",
        "outputId": "8b6713dc-62c3-4294-b57e-31a166c7a542"
      },
      "outputs": [
        {
          "output_type": "execute_result",
          "data": {
            "text/plain": [
              "'hello world'"
            ],
            "application/vnd.google.colaboratory.intrinsic+json": {
              "type": "string"
            }
          },
          "metadata": {},
          "execution_count": 22
        }
      ],
      "source": [
        "#Everything\n",
        "s[:]"
      ]
    },
    {
      "cell_type": "markdown",
      "metadata": {
        "id": "BRDp4maUFDKN"
      },
      "source": [
        "We can also use negative indexing to go backwards."
      ]
    },
    {
      "cell_type": "code",
      "execution_count": null,
      "metadata": {
        "colab": {
          "base_uri": "https://localhost:8080/",
          "height": 35
        },
        "id": "ShT4aYtWFDKN",
        "outputId": "28869ba1-a74d-4af0-d4a4-db9a8624db4c"
      },
      "outputs": [
        {
          "output_type": "execute_result",
          "data": {
            "text/plain": [
              "'d'"
            ],
            "application/vnd.google.colaboratory.intrinsic+json": {
              "type": "string"
            }
          },
          "metadata": {},
          "execution_count": 23
        }
      ],
      "source": [
        "# Last letter (one index behind 0 so it loops back around)\n",
        "s[-1]"
      ]
    },
    {
      "cell_type": "code",
      "execution_count": null,
      "metadata": {
        "colab": {
          "base_uri": "https://localhost:8080/",
          "height": 35
        },
        "id": "GJMz8RYnFDKN",
        "outputId": "512d8212-b69c-4fdb-a64f-2f4064d19769"
      },
      "outputs": [
        {
          "output_type": "execute_result",
          "data": {
            "text/plain": [
              "'hello worl'"
            ],
            "application/vnd.google.colaboratory.intrinsic+json": {
              "type": "string"
            }
          },
          "metadata": {},
          "execution_count": 24
        }
      ],
      "source": [
        "# Grab everything but the last letter\n",
        "s[:-1]"
      ]
    },
    {
      "cell_type": "markdown",
      "metadata": {
        "id": "Ald2bTogFDKR"
      },
      "source": [
        "Index and slice notation is used to grab elements of a sequenec by a specified step size (where in 1 is the default size). For instance we can use two colons in a row and then a number specifying the frequency to grab elements. For example:"
      ]
    },
    {
      "cell_type": "code",
      "execution_count": null,
      "metadata": {
        "colab": {
          "base_uri": "https://localhost:8080/",
          "height": 35
        },
        "id": "V8oecub_FDKR",
        "outputId": "846114e6-0702-44f0-9d53-d982942f513c"
      },
      "outputs": [
        {
          "output_type": "execute_result",
          "data": {
            "text/plain": [
              "'hello world'"
            ],
            "application/vnd.google.colaboratory.intrinsic+json": {
              "type": "string"
            }
          },
          "metadata": {},
          "execution_count": 25
        }
      ],
      "source": [
        "# Grab everything, but go in steps size of 1\n",
        "s[::1]"
      ]
    },
    {
      "cell_type": "code",
      "execution_count": null,
      "metadata": {
        "colab": {
          "base_uri": "https://localhost:8080/",
          "height": 35
        },
        "id": "O61cbGaIFDKR",
        "outputId": "72512120-4d2d-48d1-b084-77a177fe11f7"
      },
      "outputs": [
        {
          "output_type": "execute_result",
          "data": {
            "text/plain": [
              "'hlowrd'"
            ],
            "application/vnd.google.colaboratory.intrinsic+json": {
              "type": "string"
            }
          },
          "metadata": {},
          "execution_count": 26
        }
      ],
      "source": [
        "# Grab everything, but go in step sizes of 2\n",
        "s[::2]"
      ]
    },
    {
      "cell_type": "code",
      "execution_count": null,
      "metadata": {
        "colab": {
          "base_uri": "https://localhost:8080/",
          "height": 35
        },
        "id": "A64wpo3zFDKR",
        "outputId": "c9794b9c-192f-4882-bd04-fff0dfbabfa9"
      },
      "outputs": [
        {
          "output_type": "execute_result",
          "data": {
            "text/plain": [
              "'drwolh'"
            ],
            "application/vnd.google.colaboratory.intrinsic+json": {
              "type": "string"
            }
          },
          "metadata": {},
          "execution_count": 27
        }
      ],
      "source": [
        "# We can use this to print a string backwards\n",
        "s[::-2]"
      ]
    },
    {
      "cell_type": "markdown",
      "metadata": {
        "collapsed": true,
        "id": "UPx72ym2FDKR"
      },
      "source": [
        "## String Properties\n",
        "\n",
        "Immutability is one the finest string property whichh is created once and the elements within it cannot be changed or replaced. For example:"
      ]
    },
    {
      "cell_type": "code",
      "execution_count": null,
      "metadata": {
        "colab": {
          "base_uri": "https://localhost:8080/",
          "height": 35
        },
        "id": "zB76RZmGFDKR",
        "outputId": "ee4a35ef-712c-462e-a0a7-646cabda4d20"
      },
      "outputs": [
        {
          "output_type": "execute_result",
          "data": {
            "text/plain": [
              "'concatenate me!'"
            ],
            "application/vnd.google.colaboratory.intrinsic+json": {
              "type": "string"
            }
          },
          "metadata": {},
          "execution_count": 38
        }
      ],
      "source": [
        "s"
      ]
    },
    {
      "cell_type": "code",
      "execution_count": null,
      "metadata": {
        "colab": {
          "base_uri": "https://localhost:8080/",
          "height": 194
        },
        "id": "ujd-n81nFDKR",
        "outputId": "fdb98a57-7227-45f0-dda1-c3b77e98cd6a"
      },
      "outputs": [
        {
          "output_type": "error",
          "ename": "TypeError",
          "evalue": "ignored",
          "traceback": [
            "\u001b[0;31m---------------------------------------------------------------------------\u001b[0m",
            "\u001b[0;31mTypeError\u001b[0m                                 Traceback (most recent call last)",
            "\u001b[0;32m<ipython-input-30-e8380f743885>\u001b[0m in \u001b[0;36m<cell line: 2>\u001b[0;34m()\u001b[0m\n\u001b[1;32m      1\u001b[0m \u001b[0;31m# Let's try to change the first letter to 'x'\u001b[0m\u001b[0;34m\u001b[0m\u001b[0;34m\u001b[0m\u001b[0m\n\u001b[0;32m----> 2\u001b[0;31m \u001b[0ms\u001b[0m\u001b[0;34m[\u001b[0m\u001b[0;36m0\u001b[0m\u001b[0;34m]\u001b[0m\u001b[0;34m=\u001b[0m \u001b[0;34m'x'\u001b[0m\u001b[0;34m\u001b[0m\u001b[0;34m\u001b[0m\u001b[0m\n\u001b[0m",
            "\u001b[0;31mTypeError\u001b[0m: 'str' object does not support item assignment"
          ]
        }
      ],
      "source": [
        "# Let's try to change the first letter to 'x'\n",
        "s[0]= 'x'"
      ]
    },
    {
      "cell_type": "markdown",
      "metadata": {
        "id": "jABuQscjFDKR"
      },
      "source": [
        "Notice how the error tells us directly what we can't do, change the item assignment!\n",
        "\n",
        "Something we can do is concatenate strings!"
      ]
    },
    {
      "cell_type": "code",
      "execution_count": null,
      "metadata": {
        "colab": {
          "base_uri": "https://localhost:8080/",
          "height": 35
        },
        "id": "qH9TeHekFDKS",
        "outputId": "f228eecb-6d0c-49e1-9128-785dfe9f0833"
      },
      "outputs": [
        {
          "output_type": "execute_result",
          "data": {
            "text/plain": [
              "'hello world'"
            ],
            "application/vnd.google.colaboratory.intrinsic+json": {
              "type": "string"
            }
          },
          "metadata": {},
          "execution_count": 52
        }
      ],
      "source": [
        "s"
      ]
    },
    {
      "cell_type": "code",
      "execution_count": null,
      "metadata": {
        "colab": {
          "base_uri": "https://localhost:8080/",
          "height": 35
        },
        "id": "teUA0BIPFDKS",
        "outputId": "16042ebd-0272-4b00-cde8-c6548944644f"
      },
      "outputs": [
        {
          "output_type": "execute_result",
          "data": {
            "text/plain": [
              "'hello worldconcatenate me!'"
            ],
            "application/vnd.google.colaboratory.intrinsic+json": {
              "type": "string"
            }
          },
          "metadata": {},
          "execution_count": 53
        }
      ],
      "source": [
        "# Concatenate strings!\n",
        "s +'concatenate me!'"
      ]
    },
    {
      "cell_type": "code",
      "execution_count": null,
      "metadata": {
        "id": "j7X9d-eeFDKS"
      },
      "outputs": [],
      "source": [
        "# We can reassign s completely though!\n",
        "\n",
        "s=s+'concatenate me!'"
      ]
    },
    {
      "cell_type": "code",
      "execution_count": null,
      "metadata": {
        "colab": {
          "base_uri": "https://localhost:8080/"
        },
        "id": "kgHyeYA1FDKS",
        "outputId": "e83face2-4f5b-4c95-d46e-797ecd21ff89"
      },
      "outputs": [
        {
          "output_type": "stream",
          "name": "stdout",
          "text": [
            "hello worldconcatenate me!\n"
          ]
        }
      ],
      "source": [
        "print(s)"
      ]
    },
    {
      "cell_type": "code",
      "execution_count": null,
      "metadata": {
        "colab": {
          "base_uri": "https://localhost:8080/",
          "height": 35
        },
        "id": "0fdCUT4WFDKS",
        "outputId": "2ac48698-a627-4091-b4c2-ccec6103b582"
      },
      "outputs": [
        {
          "output_type": "execute_result",
          "data": {
            "text/plain": [
              "'hello worldconcatenate me!'"
            ],
            "application/vnd.google.colaboratory.intrinsic+json": {
              "type": "string"
            }
          },
          "metadata": {},
          "execution_count": 56
        }
      ],
      "source": [
        "s"
      ]
    },
    {
      "cell_type": "markdown",
      "metadata": {
        "id": "IT86KjyTFDKS"
      },
      "source": [
        "We can use the multiplication symbol to create repetition!"
      ]
    },
    {
      "cell_type": "code",
      "execution_count": null,
      "metadata": {
        "id": "Sfrw7gIvFDKS"
      },
      "outputs": [],
      "source": [
        "letter='z'"
      ]
    },
    {
      "cell_type": "code",
      "execution_count": null,
      "metadata": {
        "colab": {
          "base_uri": "https://localhost:8080/",
          "height": 35
        },
        "id": "FP5jeu65FDKS",
        "outputId": "300557e6-40c2-4ad9-94f1-b0c0b691bff7"
      },
      "outputs": [
        {
          "output_type": "execute_result",
          "data": {
            "text/plain": [
              "'zzzzzzzzzz'"
            ],
            "application/vnd.google.colaboratory.intrinsic+json": {
              "type": "string"
            }
          },
          "metadata": {},
          "execution_count": 58
        }
      ],
      "source": [
        "letter*10"
      ]
    },
    {
      "cell_type": "markdown",
      "metadata": {
        "id": "OLGBylx_FDKS"
      },
      "source": [
        "## Basic Built-in String methods\n",
        "\n",
        "In Python, Objects have built-in methods which means these methods are functions present inside the object (we will learn about these in much more depth later) that can perform actions or commands on the object itself.\n",
        "\n",
        "Methods can be called with a period followed by the method name. Methods are in the form:\n",
        "\n",
        "object.method(parameters)\n",
        "\n",
        "Where parameters are extra arguments which are passed into the method. Right now, it is not necessary to make 100% sense but going forward we will create our own objects and functions.\n",
        "\n",
        "Here are some examples of built-in methods in strings:"
      ]
    },
    {
      "cell_type": "code",
      "execution_count": null,
      "metadata": {
        "colab": {
          "base_uri": "https://localhost:8080/",
          "height": 35
        },
        "id": "7bX7ujOQFDKT",
        "outputId": "966684d0-bc83-4d70-b763-1bbb022ea649"
      },
      "outputs": [
        {
          "output_type": "execute_result",
          "data": {
            "text/plain": [
              "'hello worldconcatenate me!'"
            ],
            "application/vnd.google.colaboratory.intrinsic+json": {
              "type": "string"
            }
          },
          "metadata": {},
          "execution_count": 59
        }
      ],
      "source": [
        "s"
      ]
    },
    {
      "cell_type": "code",
      "execution_count": null,
      "metadata": {
        "colab": {
          "base_uri": "https://localhost:8080/",
          "height": 35
        },
        "id": "rSGYdIJWFDKT",
        "outputId": "eb6966f2-4201-4254-f9d5-579bfb68fdae"
      },
      "outputs": [
        {
          "output_type": "execute_result",
          "data": {
            "text/plain": [
              "'HELLO WORLDCONCATENATE ME!'"
            ],
            "application/vnd.google.colaboratory.intrinsic+json": {
              "type": "string"
            }
          },
          "metadata": {},
          "execution_count": 60
        }
      ],
      "source": [
        "# Upper Case a string\n",
        "s.upper()"
      ]
    },
    {
      "cell_type": "code",
      "execution_count": null,
      "metadata": {
        "colab": {
          "base_uri": "https://localhost:8080/",
          "height": 35
        },
        "id": "B0TYzQQKFDKT",
        "outputId": "191cd75f-66cb-469f-da77-6b92693917a6"
      },
      "outputs": [
        {
          "output_type": "execute_result",
          "data": {
            "text/plain": [
              "'hello worldconcatenate me!'"
            ],
            "application/vnd.google.colaboratory.intrinsic+json": {
              "type": "string"
            }
          },
          "metadata": {},
          "execution_count": 61
        }
      ],
      "source": [
        "# Lower case\n",
        "s.lower()"
      ]
    },
    {
      "cell_type": "code",
      "execution_count": null,
      "metadata": {
        "colab": {
          "base_uri": "https://localhost:8080/"
        },
        "id": "k3WJHaK6FDKT",
        "outputId": "d9f9221f-1ec1-46e7-c4f3-2a4ea8a9c44d"
      },
      "outputs": [
        {
          "output_type": "execute_result",
          "data": {
            "text/plain": [
              "['hello', 'worldconcatenate', 'me!']"
            ]
          },
          "metadata": {},
          "execution_count": 63
        }
      ],
      "source": [
        "# Split a string by blank space (this is the default)\n",
        "s.split()"
      ]
    },
    {
      "cell_type": "code",
      "execution_count": null,
      "metadata": {
        "colab": {
          "base_uri": "https://localhost:8080/"
        },
        "id": "a3sOadaKFDKT",
        "outputId": "52784020-0bf2-4ad2-c1a3-cc7996f03c0a"
      },
      "outputs": [
        {
          "output_type": "execute_result",
          "data": {
            "text/plain": [
              "['hell', ' w', 'rldc', 'ncatenate me!']"
            ]
          },
          "metadata": {},
          "execution_count": 65
        }
      ],
      "source": [
        "# Split by a specific element (doesn't include the element that was split on)\n",
        "s.split('o')"
      ]
    },
    {
      "cell_type": "markdown",
      "metadata": {
        "id": "ktUpbzM5FDKT"
      },
      "source": [
        "There are many more methods than the ones covered here. To know more about the String functions, Visit the advanced String section."
      ]
    },
    {
      "cell_type": "markdown",
      "metadata": {
        "id": "H7sXqAC9FDKT"
      },
      "source": [
        "## Print Formatting\n",
        "\n",
        "Print Formatting \".format()\" method is used to add formatted objects to the printed string statements.\n",
        "\n",
        "Let's see an example to clearly understand the concept."
      ]
    },
    {
      "cell_type": "code",
      "execution_count": null,
      "metadata": {
        "scrolled": true,
        "colab": {
          "base_uri": "https://localhost:8080/",
          "height": 35
        },
        "id": "zzZFQf0TFDKT",
        "outputId": "055ebc88-524c-49fa-8a7d-d4fb30020348"
      },
      "outputs": [
        {
          "output_type": "execute_result",
          "data": {
            "text/plain": [
              "\"insert another string with curly brackets:{'the insert string'}\""
            ],
            "application/vnd.google.colaboratory.intrinsic+json": {
              "type": "string"
            }
          },
          "metadata": {},
          "execution_count": 66
        }
      ],
      "source": [
        "'insert another string with curly brackets:{}'.format({'the insert string'})"
      ]
    },
    {
      "cell_type": "markdown",
      "metadata": {
        "id": "hfgDIXbGFDKU"
      },
      "source": [
        "## Location and Counting"
      ]
    },
    {
      "cell_type": "code",
      "execution_count": null,
      "metadata": {
        "colab": {
          "base_uri": "https://localhost:8080/"
        },
        "id": "3X6pGnUmFDKU",
        "outputId": "279f31ad-0559-4ff4-da54-0efd6c61465b"
      },
      "outputs": [
        {
          "output_type": "stream",
          "name": "stdout",
          "text": [
            "hello worldconcatenate me!\n"
          ]
        },
        {
          "output_type": "execute_result",
          "data": {
            "text/plain": [
              "3"
            ]
          },
          "metadata": {},
          "execution_count": 67
        }
      ],
      "source": [
        "print(s)\n",
        "s.count('o')"
      ]
    },
    {
      "cell_type": "code",
      "execution_count": null,
      "metadata": {
        "colab": {
          "base_uri": "https://localhost:8080/"
        },
        "id": "jtv1edy0FDKU",
        "outputId": "dca5b998-3c55-46b8-a053-395eea2483a5"
      },
      "outputs": [
        {
          "output_type": "execute_result",
          "data": {
            "text/plain": [
              "4"
            ]
          },
          "metadata": {},
          "execution_count": 68
        }
      ],
      "source": [
        "s.find('o')"
      ]
    },
    {
      "cell_type": "markdown",
      "metadata": {
        "id": "_z0OWjhvFDKU"
      },
      "source": [
        "##Formatting\n",
        "The center() method allows you to place your string 'centered' between a provided string with a certain length."
      ]
    },
    {
      "cell_type": "code",
      "execution_count": null,
      "metadata": {
        "colab": {
          "base_uri": "https://localhost:8080/",
          "height": 35
        },
        "id": "sZnfpdPpFDKU",
        "outputId": "1a7a9ba7-54c0-4cfe-d103-ff164cbc8246"
      },
      "outputs": [
        {
          "output_type": "execute_result",
          "data": {
            "text/plain": [
              "'xxxxxxxhello worldconcatenate me!xxxxxxx'"
            ],
            "application/vnd.google.colaboratory.intrinsic+json": {
              "type": "string"
            }
          },
          "metadata": {},
          "execution_count": 70
        }
      ],
      "source": [
        "s.center(40,'x')"
      ]
    },
    {
      "cell_type": "markdown",
      "metadata": {
        "id": "atxfXsu4FDKU"
      },
      "source": [
        "expandtabs() will expand tab notations \\t into spaces. Let's see an example to understand the concept."
      ]
    },
    {
      "cell_type": "code",
      "execution_count": null,
      "metadata": {
        "colab": {
          "base_uri": "https://localhost:8080/",
          "height": 35
        },
        "id": "gc2Qj291FDKU",
        "outputId": "3899ea43-13b5-4c6f-a681-c03d8b885a28"
      },
      "outputs": [
        {
          "output_type": "execute_result",
          "data": {
            "text/plain": [
              "'hello   hi'"
            ],
            "application/vnd.google.colaboratory.intrinsic+json": {
              "type": "string"
            }
          },
          "metadata": {},
          "execution_count": 71
        }
      ],
      "source": [
        "'hello\\thi'.expandtabs()"
      ]
    },
    {
      "cell_type": "markdown",
      "metadata": {
        "id": "45vhI__hFDKU"
      },
      "source": [
        "## is check methods\n",
        "These various methods below check it the string is some case. Lets explore them:"
      ]
    },
    {
      "cell_type": "code",
      "execution_count": null,
      "metadata": {
        "id": "KznJeQseFDKU"
      },
      "outputs": [],
      "source": [
        "s='hello'"
      ]
    },
    {
      "cell_type": "markdown",
      "metadata": {
        "id": "_HqKmXGXFDKU"
      },
      "source": [
        "isalnum() will return \"True\" if all characters in S are alphanumeric."
      ]
    },
    {
      "cell_type": "code",
      "execution_count": null,
      "metadata": {
        "colab": {
          "base_uri": "https://localhost:8080/"
        },
        "id": "eyyQglhpFDKU",
        "outputId": "931f481b-4bf6-49a2-aa85-0e65578b2976"
      },
      "outputs": [
        {
          "output_type": "execute_result",
          "data": {
            "text/plain": [
              "True"
            ]
          },
          "metadata": {},
          "execution_count": 74
        }
      ],
      "source": [
        "s.isalnum()"
      ]
    },
    {
      "cell_type": "markdown",
      "metadata": {
        "id": "YIgzLqKVFDKV"
      },
      "source": [
        "isalpha() wil return \"True\" if all characters in S are alphabetic."
      ]
    },
    {
      "cell_type": "code",
      "execution_count": null,
      "metadata": {
        "colab": {
          "base_uri": "https://localhost:8080/"
        },
        "id": "NQnRHr2wFDKV",
        "outputId": "b99f31fe-f15b-4303-89f2-b7e3d9a1eb73"
      },
      "outputs": [
        {
          "output_type": "execute_result",
          "data": {
            "text/plain": [
              "True"
            ]
          },
          "metadata": {},
          "execution_count": 76
        }
      ],
      "source": [
        "s.isalpha()"
      ]
    },
    {
      "cell_type": "markdown",
      "metadata": {
        "id": "NvuveHhZFDKW"
      },
      "source": [
        "islower() will return \"True\" if all cased characters in S are lowercase and there is\n",
        "at least one cased character in S, False otherwise."
      ]
    },
    {
      "cell_type": "code",
      "execution_count": null,
      "metadata": {
        "colab": {
          "base_uri": "https://localhost:8080/"
        },
        "id": "r1nmzA3GFDKX",
        "outputId": "f8cf83e3-d9fc-48f8-fbe9-ec37e7500136"
      },
      "outputs": [
        {
          "output_type": "execute_result",
          "data": {
            "text/plain": [
              "True"
            ]
          },
          "metadata": {},
          "execution_count": 78
        }
      ],
      "source": [
        "s.islower()"
      ]
    },
    {
      "cell_type": "markdown",
      "metadata": {
        "id": "2rvZde7wFDKX"
      },
      "source": [
        "isspace() will return \"True\" if all characters in S are whitespace."
      ]
    },
    {
      "cell_type": "code",
      "execution_count": null,
      "metadata": {
        "colab": {
          "base_uri": "https://localhost:8080/"
        },
        "id": "I1Kj2IFIFDKX",
        "outputId": "265cda3a-8943-49cc-83b0-73031af96517"
      },
      "outputs": [
        {
          "output_type": "execute_result",
          "data": {
            "text/plain": [
              "False"
            ]
          },
          "metadata": {},
          "execution_count": 79
        }
      ],
      "source": [
        "s.isspace()"
      ]
    },
    {
      "cell_type": "markdown",
      "metadata": {
        "id": "rfTs4jAeFDKX"
      },
      "source": [
        "istitle() will return \"True\" if S is a title cased string and there is at least one character in S, i.e. uppercase characters may only follow uncased characters and lowercase characters only cased ones. Return False otherwise."
      ]
    },
    {
      "cell_type": "code",
      "execution_count": null,
      "metadata": {
        "colab": {
          "base_uri": "https://localhost:8080/"
        },
        "id": "LRI607YxFDKX",
        "outputId": "ecfd4207-5067-4b71-c6a8-6f4babb074cb"
      },
      "outputs": [
        {
          "output_type": "execute_result",
          "data": {
            "text/plain": [
              "False"
            ]
          },
          "metadata": {},
          "execution_count": 80
        }
      ],
      "source": [
        "s.istitle()"
      ]
    },
    {
      "cell_type": "markdown",
      "metadata": {
        "id": "fHxOUNHIFDKX"
      },
      "source": [
        "isupper() will return \"True\" if all cased characters in S are uppercase and there is\n",
        "at least one cased character in S, False otherwise."
      ]
    },
    {
      "cell_type": "code",
      "execution_count": null,
      "metadata": {
        "colab": {
          "base_uri": "https://localhost:8080/"
        },
        "id": "plYcsdDQFDKY",
        "outputId": "85b6b9b1-97c6-4704-dc1b-2dd5cf85d593"
      },
      "outputs": [
        {
          "output_type": "execute_result",
          "data": {
            "text/plain": [
              "False"
            ]
          },
          "metadata": {},
          "execution_count": 81
        }
      ],
      "source": [
        "s.isupper()"
      ]
    },
    {
      "cell_type": "markdown",
      "metadata": {
        "id": "slSF6RGwFDKY"
      },
      "source": [
        "Another method is endswith() which is essentially same as a boolean check on s[-1]"
      ]
    },
    {
      "cell_type": "code",
      "execution_count": null,
      "metadata": {
        "colab": {
          "base_uri": "https://localhost:8080/"
        },
        "id": "QGbhJ8pWFDKY",
        "outputId": "d70cfaf9-1c18-4016-aba0-f494e5e5b8e5"
      },
      "outputs": [
        {
          "output_type": "execute_result",
          "data": {
            "text/plain": [
              "True"
            ]
          },
          "metadata": {},
          "execution_count": 83
        }
      ],
      "source": [
        "s.endswith('o')"
      ]
    },
    {
      "cell_type": "markdown",
      "metadata": {
        "id": "DaqaYvAyFDKY"
      },
      "source": [
        "## Built-in Reg. Expressions\n",
        "\n",
        "In Strings, there are some built-in methods which is similar to regular expression operations.\n",
        "•\tSplit() function is used to split the string at a certain element and return a list of the result.\n",
        "•\tPartition is used to return a tuple that includes the separator (the first occurrence), the first half and the end half."
      ]
    },
    {
      "cell_type": "code",
      "execution_count": null,
      "metadata": {
        "colab": {
          "base_uri": "https://localhost:8080/"
        },
        "id": "N60b4_hnFDKY",
        "outputId": "08bea008-db7e-4db0-9c0b-5f6ba00edbca"
      },
      "outputs": [
        {
          "output_type": "execute_result",
          "data": {
            "text/plain": [
              "['h', 'llo']"
            ]
          },
          "metadata": {},
          "execution_count": 84
        }
      ],
      "source": [
        "s.split('e')"
      ]
    },
    {
      "cell_type": "code",
      "execution_count": null,
      "metadata": {
        "colab": {
          "base_uri": "https://localhost:8080/"
        },
        "id": "UYj5AgkkFDKY",
        "outputId": "d95852c2-5816-42d8-b66f-15796fac5a96"
      },
      "outputs": [
        {
          "output_type": "execute_result",
          "data": {
            "text/plain": [
              "('h', 'e', 'llo')"
            ]
          },
          "metadata": {},
          "execution_count": 85
        }
      ],
      "source": [
        "s.partition('e')"
      ]
    },
    {
      "cell_type": "code",
      "execution_count": null,
      "metadata": {
        "colab": {
          "base_uri": "https://localhost:8080/",
          "height": 35
        },
        "id": "e25SbPEhFDKY",
        "outputId": "4db03177-57b5-4c70-923a-9c145b5f8042"
      },
      "outputs": [
        {
          "output_type": "execute_result",
          "data": {
            "text/plain": [
              "'hello'"
            ],
            "application/vnd.google.colaboratory.intrinsic+json": {
              "type": "string"
            }
          },
          "metadata": {},
          "execution_count": 86
        }
      ],
      "source": [
        "s"
      ]
    },
    {
      "cell_type": "markdown",
      "metadata": {
        "id": "AFZASL25FDKZ"
      },
      "source": [
        "# Lists\n",
        "\n",
        "Earlier, while discussing introduction to strings we have introduced the concept of a *sequence* in Python. In Python, Lists can be considered as the most general version of a \"sequence\". Unlike strings, they are mutable which means the elements inside a list can be changed!\n",
        "\n",
        "Lists are constructed with brackets [] and commas separating every element in the list.\n",
        "\n",
        "Let's go ahead and see how we can construct lists!"
      ]
    },
    {
      "cell_type": "code",
      "execution_count": null,
      "metadata": {
        "id": "KQw8sxO-FDKZ"
      },
      "outputs": [],
      "source": [
        "# Assign a list to an variable named my_list\n",
        "my_list=[1,2,3]"
      ]
    },
    {
      "cell_type": "markdown",
      "metadata": {
        "id": "waIxv94FFDKZ"
      },
      "source": [
        "We just created a list of integers, but lists can actually hold different object types. For example:"
      ]
    },
    {
      "cell_type": "code",
      "execution_count": null,
      "metadata": {
        "colab": {
          "base_uri": "https://localhost:8080/"
        },
        "id": "FnxRAAo3FDKZ",
        "outputId": "6dbd183f-6a66-4d3b-a017-c93fe515160c"
      },
      "outputs": [
        {
          "output_type": "execute_result",
          "data": {
            "text/plain": [
              "['a string', 23, 101.232, 'o']"
            ]
          },
          "metadata": {},
          "execution_count": 88
        }
      ],
      "source": [
        "my_list=['a string',23,101.232,'o']\n",
        "my_list"
      ]
    },
    {
      "cell_type": "markdown",
      "metadata": {
        "id": "1NTmfiy0FDKa"
      },
      "source": [
        "Just like strings, the len() function will tell you how many items are in the sequence of the list."
      ]
    },
    {
      "cell_type": "code",
      "execution_count": null,
      "metadata": {
        "colab": {
          "base_uri": "https://localhost:8080/"
        },
        "id": "NVlyi-6QFDKa",
        "outputId": "5a8b72c3-dcc9-4c42-a045-aec62aa6f6cd"
      },
      "outputs": [
        {
          "output_type": "execute_result",
          "data": {
            "text/plain": [
              "4"
            ]
          },
          "metadata": {},
          "execution_count": 89
        }
      ],
      "source": [
        "len(my_list)"
      ]
    },
    {
      "cell_type": "markdown",
      "metadata": {
        "id": "Ane2_mNxFDKa"
      },
      "source": [
        "### Indexing and Slicing\n",
        "Indexing and slicing of lists works just like in Strings. Let's make a new list to remind ourselves of how this works:"
      ]
    },
    {
      "cell_type": "code",
      "execution_count": null,
      "metadata": {
        "id": "9RBpSakNFDKa"
      },
      "outputs": [],
      "source": [
        "my_list=['one','two','three',4,5]"
      ]
    },
    {
      "cell_type": "code",
      "execution_count": null,
      "metadata": {
        "colab": {
          "base_uri": "https://localhost:8080/",
          "height": 35
        },
        "id": "lPQSq1cyFDKa",
        "outputId": "63574373-5ef0-4233-ad83-a82c21235721"
      },
      "outputs": [
        {
          "output_type": "execute_result",
          "data": {
            "text/plain": [
              "'one'"
            ],
            "application/vnd.google.colaboratory.intrinsic+json": {
              "type": "string"
            }
          },
          "metadata": {},
          "execution_count": 91
        }
      ],
      "source": [
        "# Grab element at index 0\n",
        "my_list[0]"
      ]
    },
    {
      "cell_type": "code",
      "execution_count": null,
      "metadata": {
        "colab": {
          "base_uri": "https://localhost:8080/"
        },
        "id": "ewgSvLXzFDKa",
        "outputId": "3822c6dd-fcf3-4db0-e5ca-8901247a1af5"
      },
      "outputs": [
        {
          "output_type": "execute_result",
          "data": {
            "text/plain": [
              "['two', 'three', 4, 5]"
            ]
          },
          "metadata": {},
          "execution_count": 95
        }
      ],
      "source": [
        "# Grab index 1 and everything past it\n",
        "my_list[1:]\n"
      ]
    },
    {
      "cell_type": "code",
      "execution_count": null,
      "metadata": {
        "colab": {
          "base_uri": "https://localhost:8080/"
        },
        "id": "vM7fCMGgFDKb",
        "outputId": "9369b722-8a68-41cc-ca06-7bb1c4f4e864"
      },
      "outputs": [
        {
          "output_type": "execute_result",
          "data": {
            "text/plain": [
              "[4, 5]"
            ]
          },
          "metadata": {},
          "execution_count": 96
        }
      ],
      "source": [
        "# Grab everything UP TO index 3\n",
        "my_list[3:]"
      ]
    },
    {
      "cell_type": "markdown",
      "metadata": {
        "id": "9aqc7xtDFDKb"
      },
      "source": [
        "We can also use \"+\" to concatenate lists, just like we did for Strings."
      ]
    },
    {
      "cell_type": "code",
      "execution_count": null,
      "metadata": {
        "colab": {
          "base_uri": "https://localhost:8080/"
        },
        "id": "PHqind0yFDKb",
        "outputId": "43e9b10e-2668-4229-dd5f-e5c51434bd15"
      },
      "outputs": [
        {
          "output_type": "execute_result",
          "data": {
            "text/plain": [
              "['one', 'two', 'three', 4, 5, 'new item']"
            ]
          },
          "metadata": {},
          "execution_count": 97
        }
      ],
      "source": [
        "my_list+['new item']"
      ]
    },
    {
      "cell_type": "markdown",
      "metadata": {
        "id": "aqwPMu8TFDKb"
      },
      "source": [
        "Note: This doesn't actually change the original list!"
      ]
    },
    {
      "cell_type": "code",
      "execution_count": null,
      "metadata": {
        "colab": {
          "base_uri": "https://localhost:8080/"
        },
        "id": "L7rpwzRqFDKb",
        "outputId": "be5520f6-f2a4-4aac-dc7c-b7c961b11adf"
      },
      "outputs": [
        {
          "output_type": "execute_result",
          "data": {
            "text/plain": [
              "['one', 'two', 'three', 4, 5]"
            ]
          },
          "metadata": {},
          "execution_count": 98
        }
      ],
      "source": [
        "my_list"
      ]
    },
    {
      "cell_type": "markdown",
      "metadata": {
        "id": "5EK9GOumFDKb"
      },
      "source": [
        "In this case, you have to reassign the list to make the permanent change."
      ]
    },
    {
      "cell_type": "code",
      "execution_count": null,
      "metadata": {
        "id": "Yp_MIe7BFDKc"
      },
      "outputs": [],
      "source": [
        "# Reassign\n",
        "my_list=my_list+['add new item permanently']"
      ]
    },
    {
      "cell_type": "code",
      "execution_count": null,
      "metadata": {
        "colab": {
          "base_uri": "https://localhost:8080/"
        },
        "id": "-1Z92BIGFDKc",
        "outputId": "b32ffb5f-7cf5-49b7-f58b-3828c7566239"
      },
      "outputs": [
        {
          "output_type": "execute_result",
          "data": {
            "text/plain": [
              "['one', 'two', 'three', 4, 5, 'add new item permanently']"
            ]
          },
          "metadata": {},
          "execution_count": 101
        }
      ],
      "source": [
        "my_list\n"
      ]
    },
    {
      "cell_type": "markdown",
      "metadata": {
        "id": "PETbZ4eTFDKc"
      },
      "source": [
        "We can also use the * for a duplication method similar to strings:"
      ]
    },
    {
      "cell_type": "code",
      "execution_count": null,
      "metadata": {
        "colab": {
          "base_uri": "https://localhost:8080/"
        },
        "id": "tvVQHcw7FDKc",
        "outputId": "e97b0c94-ad44-43ee-e6c6-a5bc9ee0a56c"
      },
      "outputs": [
        {
          "output_type": "execute_result",
          "data": {
            "text/plain": [
              "['one',\n",
              " 'two',\n",
              " 'three',\n",
              " 4,\n",
              " 5,\n",
              " 'add new item permanently',\n",
              " 'one',\n",
              " 'two',\n",
              " 'three',\n",
              " 4,\n",
              " 5,\n",
              " 'add new item permanently']"
            ]
          },
          "metadata": {},
          "execution_count": 102
        }
      ],
      "source": [
        "# Make the list double\n",
        "my_list*2"
      ]
    },
    {
      "cell_type": "code",
      "execution_count": null,
      "metadata": {
        "colab": {
          "base_uri": "https://localhost:8080/"
        },
        "id": "gbCgmDhGFDKc",
        "outputId": "57f5c001-2dda-43a0-b40c-234ff29b9efb"
      },
      "outputs": [
        {
          "output_type": "execute_result",
          "data": {
            "text/plain": [
              "['one', 'two', 'three', 4, 5, 'add new item permanently']"
            ]
          },
          "metadata": {},
          "execution_count": 103
        }
      ],
      "source": [
        "# Again doubling not permanent\n",
        "my_list"
      ]
    },
    {
      "cell_type": "markdown",
      "metadata": {
        "id": "6iOUsycLFDKc"
      },
      "source": [
        "## Basic List Methods\n",
        "\n",
        "If you are familiar with another programming language, start to draw parallels between lists in Python and arrays in other language. There are two reasons which tells why the lists in Python are more flexible than arrays in other programming language:\n",
        "\n",
        "a. They have no fixed size (which means we need not to specify how big the list will be)\n",
        "b. They have no fixed type constraint\n",
        "\n",
        "Let's go ahead and explore some more special methods for lists:"
      ]
    },
    {
      "cell_type": "code",
      "execution_count": null,
      "metadata": {
        "id": "nER2myYEFDKc"
      },
      "outputs": [],
      "source": [
        "# Create a new list\n",
        "l=[1,2,3]"
      ]
    },
    {
      "cell_type": "markdown",
      "metadata": {
        "id": "EOqiMJtiFDKc"
      },
      "source": [
        "Use the **append** method to permanently add an item to the end of a list:"
      ]
    },
    {
      "cell_type": "code",
      "execution_count": null,
      "metadata": {
        "id": "lhAHY25SFDKc"
      },
      "outputs": [],
      "source": [
        "# Append\n",
        "l.append('append me')"
      ]
    },
    {
      "cell_type": "code",
      "execution_count": null,
      "metadata": {
        "colab": {
          "base_uri": "https://localhost:8080/"
        },
        "id": "9Yvp7bSPFDKd",
        "outputId": "41507310-4246-4114-d0d0-cd023b28447e"
      },
      "outputs": [
        {
          "output_type": "execute_result",
          "data": {
            "text/plain": [
              "[1, 2, 3, 'append me']"
            ]
          },
          "metadata": {},
          "execution_count": 121
        }
      ],
      "source": [
        "# Show\n",
        "l"
      ]
    },
    {
      "cell_type": "markdown",
      "metadata": {
        "id": "5t6BfmY5FDKd"
      },
      "source": [
        "Use **pop** to \"pop off\" an item from the list. By default pop takes off the last index, but you can also specify which index to pop off. Let's see an example:"
      ]
    },
    {
      "cell_type": "code",
      "execution_count": null,
      "metadata": {
        "colab": {
          "base_uri": "https://localhost:8080/"
        },
        "id": "i_aA0euDFDKd",
        "outputId": "0dce4b05-be99-4644-ad1c-bbc32e0b7c5c"
      },
      "outputs": [
        {
          "output_type": "execute_result",
          "data": {
            "text/plain": [
              "1"
            ]
          },
          "metadata": {},
          "execution_count": 122
        }
      ],
      "source": [
        "# Pop off the 0 indexed item\n",
        "l.pop(0)"
      ]
    },
    {
      "cell_type": "code",
      "execution_count": null,
      "metadata": {
        "colab": {
          "base_uri": "https://localhost:8080/"
        },
        "id": "5kGQfRcwFDKd",
        "outputId": "4cb3bfab-17f2-4f23-d475-2e77fbb895d0"
      },
      "outputs": [
        {
          "output_type": "execute_result",
          "data": {
            "text/plain": [
              "[2, 3, 'append me']"
            ]
          },
          "metadata": {},
          "execution_count": 123
        }
      ],
      "source": [
        "# Show\n",
        "l"
      ]
    },
    {
      "cell_type": "code",
      "execution_count": null,
      "metadata": {
        "id": "xrpPjjzQFDKd"
      },
      "outputs": [],
      "source": [
        "# Assign the popped element, remember default popped index is -1\n",
        "popped_item=l.pop()"
      ]
    },
    {
      "cell_type": "code",
      "execution_count": null,
      "metadata": {
        "colab": {
          "base_uri": "https://localhost:8080/",
          "height": 35
        },
        "id": "g45hP6FJFDKd",
        "outputId": "8d771387-0c97-43b4-d776-5751217355bd"
      },
      "outputs": [
        {
          "output_type": "execute_result",
          "data": {
            "text/plain": [
              "'append me'"
            ],
            "application/vnd.google.colaboratory.intrinsic+json": {
              "type": "string"
            }
          },
          "metadata": {},
          "execution_count": 127
        }
      ],
      "source": [
        "popped_item"
      ]
    },
    {
      "cell_type": "code",
      "execution_count": null,
      "metadata": {
        "colab": {
          "base_uri": "https://localhost:8080/"
        },
        "id": "E9pe5ZdpFDKd",
        "outputId": "5a09a0e3-dcc4-47e6-e1bd-987192325b76"
      },
      "outputs": [
        {
          "output_type": "execute_result",
          "data": {
            "text/plain": [
              "[2, 3]"
            ]
          },
          "metadata": {},
          "execution_count": 128
        }
      ],
      "source": [
        "# Show remaining list\n",
        "l"
      ]
    },
    {
      "cell_type": "markdown",
      "metadata": {
        "id": "vzZ2AVOrFDKd"
      },
      "source": [
        "Note that lists indexing will return an error if there is no element at that index. For example:"
      ]
    },
    {
      "cell_type": "code",
      "execution_count": null,
      "metadata": {
        "colab": {
          "base_uri": "https://localhost:8080/",
          "height": 176
        },
        "id": "oNKWMOCpFDKd",
        "outputId": "a011fd2d-d68c-456f-b7c9-0f2242a0fd1e"
      },
      "outputs": [
        {
          "output_type": "error",
          "ename": "IndexError",
          "evalue": "ignored",
          "traceback": [
            "\u001b[0;31m---------------------------------------------------------------------------\u001b[0m",
            "\u001b[0;31mIndexError\u001b[0m                                Traceback (most recent call last)",
            "\u001b[0;32m<ipython-input-129-e2a0c2623844>\u001b[0m in \u001b[0;36m<cell line: 1>\u001b[0;34m()\u001b[0m\n\u001b[0;32m----> 1\u001b[0;31m \u001b[0ml\u001b[0m\u001b[0;34m[\u001b[0m\u001b[0;36m100\u001b[0m\u001b[0;34m]\u001b[0m\u001b[0;34m\u001b[0m\u001b[0;34m\u001b[0m\u001b[0m\n\u001b[0m",
            "\u001b[0;31mIndexError\u001b[0m: list index out of range"
          ]
        }
      ],
      "source": [
        "l[100]"
      ]
    },
    {
      "cell_type": "markdown",
      "metadata": {
        "id": "z2i0SOHDFDKd"
      },
      "source": [
        "We can use the **sort** method and the **reverse** methods to also effect your lists:"
      ]
    },
    {
      "cell_type": "code",
      "execution_count": null,
      "metadata": {
        "id": "hQaZUCfWFDKe"
      },
      "outputs": [],
      "source": [
        "new_list=['a','e','x','b','c']"
      ]
    },
    {
      "cell_type": "code",
      "execution_count": null,
      "metadata": {
        "colab": {
          "base_uri": "https://localhost:8080/"
        },
        "id": "xFeQiLTJFDKe",
        "outputId": "fb6352aa-75fc-4e3d-816b-a756753fc19d"
      },
      "outputs": [
        {
          "output_type": "execute_result",
          "data": {
            "text/plain": [
              "['a', 'e', 'x', 'b', 'c']"
            ]
          },
          "metadata": {},
          "execution_count": 132
        }
      ],
      "source": [
        "#Show\n",
        "new_list"
      ]
    },
    {
      "cell_type": "code",
      "execution_count": null,
      "metadata": {
        "id": "vMxrU1MJFDKe"
      },
      "outputs": [],
      "source": [
        "# Use reverse to reverse order (this is permanent!)\n",
        "new_list .reverse()"
      ]
    },
    {
      "cell_type": "code",
      "execution_count": null,
      "metadata": {
        "colab": {
          "base_uri": "https://localhost:8080/"
        },
        "id": "Xd9AJ-agFDKe",
        "outputId": "757642d7-f010-45db-f1b6-82da3ea02631"
      },
      "outputs": [
        {
          "output_type": "execute_result",
          "data": {
            "text/plain": [
              "['c', 'b', 'x', 'e', 'a']"
            ]
          },
          "metadata": {},
          "execution_count": 136
        }
      ],
      "source": [
        "new_list"
      ]
    },
    {
      "cell_type": "code",
      "execution_count": null,
      "metadata": {
        "id": "sXvNmwBVFDKe"
      },
      "outputs": [],
      "source": [
        "# Use sort to sort the list (in this case alphabetical order, but for numbers it will go ascending)\n",
        "new_list.sort()"
      ]
    },
    {
      "cell_type": "code",
      "execution_count": null,
      "metadata": {
        "colab": {
          "base_uri": "https://localhost:8080/"
        },
        "id": "xFrfXJqlFDKe",
        "outputId": "9c75df0f-897a-4be5-df7f-7f04291ac090"
      },
      "outputs": [
        {
          "output_type": "execute_result",
          "data": {
            "text/plain": [
              "['a', 'b', 'c', 'e', 'x']"
            ]
          },
          "metadata": {},
          "execution_count": 138
        }
      ],
      "source": [
        "new_list"
      ]
    },
    {
      "cell_type": "markdown",
      "metadata": {
        "id": "LqFEVKrcFDKe"
      },
      "source": [
        "## Nesting Lists\n",
        "\n",
        "Nesting Lists is one of the great features in Python data structures. Nesting Lists means we can have data structures within data structures.\n",
        "\n",
        "For example: A list inside a list.\n",
        "\n",
        "Let's see how Nesting lists works!"
      ]
    },
    {
      "cell_type": "code",
      "execution_count": null,
      "metadata": {
        "id": "_nc-6BT8FDKe"
      },
      "outputs": [],
      "source": [
        "# Let's make three lists\n",
        "lst_1=[1,2,3]\n",
        "lst_2=[4,5,6]\n",
        "lst_3=[7,8,9]\n",
        "# Make a list of lists to form a matrix\n",
        "matrix =[lst_1,lst_2,lst_3]"
      ]
    },
    {
      "cell_type": "code",
      "execution_count": null,
      "metadata": {
        "colab": {
          "base_uri": "https://localhost:8080/"
        },
        "id": "hZEQDec_FDKe",
        "outputId": "c381e374-acb4-431d-c5dc-6458a60e4269"
      },
      "outputs": [
        {
          "output_type": "execute_result",
          "data": {
            "text/plain": [
              "[[1, 2, 3], [4, 5, 6], [7, 8, 9]]"
            ]
          },
          "metadata": {},
          "execution_count": 140
        }
      ],
      "source": [
        "# Show\n",
        "matrix"
      ]
    },
    {
      "cell_type": "markdown",
      "metadata": {
        "id": "ZodMRdXyFDKe"
      },
      "source": [
        "We can re-use indexing to grab elements, but now there are two levels for the index.\n",
        "\n",
        "a. The items in the matrix object\n",
        "b. The items inside the list"
      ]
    },
    {
      "cell_type": "code",
      "execution_count": null,
      "metadata": {
        "colab": {
          "base_uri": "https://localhost:8080/"
        },
        "id": "4WuZt5OVFDKe",
        "outputId": "1b220a83-dfa0-4bda-dc0d-29ad1bfc2cd5"
      },
      "outputs": [
        {
          "output_type": "execute_result",
          "data": {
            "text/plain": [
              "[1, 2, 3]"
            ]
          },
          "metadata": {},
          "execution_count": 141
        }
      ],
      "source": [
        "# Grab first item in matrix object\n",
        "matrix[0]"
      ]
    },
    {
      "cell_type": "code",
      "execution_count": null,
      "metadata": {
        "colab": {
          "base_uri": "https://localhost:8080/"
        },
        "id": "D6oUWsPRFDKf",
        "outputId": "0595d5b4-d03c-4725-86c0-53b757113351"
      },
      "outputs": [
        {
          "output_type": "execute_result",
          "data": {
            "text/plain": [
              "1"
            ]
          },
          "metadata": {},
          "execution_count": 143
        }
      ],
      "source": [
        "# Grab first item of the first item in the matrix object\n",
        "matrix[0][0]"
      ]
    },
    {
      "cell_type": "markdown",
      "metadata": {
        "id": "X61gP4V7FDKf"
      },
      "source": [
        "# List Comprehensions\n",
        "\n",
        "Python has an advanced feature called list comprehensions which allows for quick construction of lists.\n",
        "\n",
        "Before we try to understand list comprehensions completely we need to understand \"for\" loops.\n",
        "\n",
        "So don't worry if you don't completely understand this section, and feel free to just skip it since we will return to this topic later.\n",
        "\n",
        "Here are few of oue examples which helps you to understand list comprehensions."
      ]
    },
    {
      "cell_type": "code",
      "execution_count": null,
      "metadata": {
        "id": "bZLziHMlFDKf"
      },
      "outputs": [],
      "source": [
        "# Build a list comprehension by deconstructing a for loop within a []\n",
        "first_col=[row[0] for row in matrix]\n"
      ]
    },
    {
      "cell_type": "code",
      "execution_count": null,
      "metadata": {
        "colab": {
          "base_uri": "https://localhost:8080/"
        },
        "id": "d9z044U6FDKf",
        "outputId": "bf0f391d-b136-4ea3-c15c-bc3812eebc9e"
      },
      "outputs": [
        {
          "output_type": "execute_result",
          "data": {
            "text/plain": [
              "[1, 4, 7]"
            ]
          },
          "metadata": {},
          "execution_count": 145
        }
      ],
      "source": [
        "first_col"
      ]
    },
    {
      "cell_type": "markdown",
      "metadata": {
        "id": "vOl5d71KFDKf"
      },
      "source": [
        "# Advanced Lists\n",
        "\n",
        "In this series of lectures, we will be diving a little deeper into all the available methods in a list object. These are just methods that should encountered without some additional exploring. Its pretty likely that you've already encountered some of these yourself!\n",
        "\n",
        "Lets begin!"
      ]
    },
    {
      "cell_type": "code",
      "execution_count": null,
      "metadata": {
        "id": "hLK9wDGNFDKf"
      },
      "outputs": [],
      "source": [
        "l=[1,2,3]"
      ]
    },
    {
      "cell_type": "markdown",
      "metadata": {
        "id": "j-Kv-9XfFDKf"
      },
      "source": [
        "## append\n",
        "\n",
        "Definitely, You have used this method by now, which merely appends an element to the end of a list:"
      ]
    },
    {
      "cell_type": "code",
      "execution_count": null,
      "metadata": {
        "colab": {
          "base_uri": "https://localhost:8080/"
        },
        "id": "RIhhGSPGFDKf",
        "outputId": "affec32d-9265-4ea4-cf3c-4919b1ac6d38"
      },
      "outputs": [
        {
          "output_type": "execute_result",
          "data": {
            "text/plain": [
              "[1, 2, 3, 4]"
            ]
          },
          "metadata": {},
          "execution_count": 150
        }
      ],
      "source": [
        "l.append(4)\n",
        "l"
      ]
    },
    {
      "cell_type": "markdown",
      "metadata": {
        "id": "EmtRosUpFDKf"
      },
      "source": [
        "## count\n",
        "We discussed this during the methods lectures, but here it is again. count() takes in an element and returns the number of times it occures in your list:"
      ]
    },
    {
      "cell_type": "code",
      "execution_count": null,
      "metadata": {
        "colab": {
          "base_uri": "https://localhost:8080/"
        },
        "id": "wWaCUL2NFDKf",
        "outputId": "d258e869-14f6-418c-9482-76974b5a9976"
      },
      "outputs": [
        {
          "output_type": "execute_result",
          "data": {
            "text/plain": [
              "0"
            ]
          },
          "metadata": {},
          "execution_count": 151
        }
      ],
      "source": [
        "l.count(10)"
      ]
    },
    {
      "cell_type": "code",
      "execution_count": null,
      "metadata": {
        "colab": {
          "base_uri": "https://localhost:8080/"
        },
        "id": "Po2gHZt1FDKg",
        "outputId": "e012abb2-2991-473c-9361-3489f021769e"
      },
      "outputs": [
        {
          "output_type": "execute_result",
          "data": {
            "text/plain": [
              "1"
            ]
          },
          "metadata": {},
          "execution_count": 153
        }
      ],
      "source": [
        "l.count(2)"
      ]
    },
    {
      "cell_type": "markdown",
      "metadata": {
        "id": "fsG-TTGaFDKg"
      },
      "source": [
        "## extend\n",
        "Many times people find the difference between extend and append to be unclear. So note that,\n",
        "\n",
        "**append: Appends object at end**"
      ]
    },
    {
      "cell_type": "code",
      "execution_count": null,
      "metadata": {
        "colab": {
          "base_uri": "https://localhost:8080/"
        },
        "id": "-kszMWg0FDKg",
        "outputId": "83234ba7-a9be-4ad4-b9ee-032d671de7c6"
      },
      "outputs": [
        {
          "output_type": "stream",
          "name": "stdout",
          "text": [
            "[1, 2, 3, [4, 5]]\n"
          ]
        }
      ],
      "source": [
        "x =[1,2,3]\n",
        "x.append([4,5])\n",
        "print(x)"
      ]
    },
    {
      "cell_type": "markdown",
      "metadata": {
        "id": "bOwzdsxiFDKg"
      },
      "source": [
        "**extend: extends list by appending elements from the iterable**"
      ]
    },
    {
      "cell_type": "code",
      "execution_count": null,
      "metadata": {
        "colab": {
          "base_uri": "https://localhost:8080/"
        },
        "id": "rO50xJ-mFDKg",
        "outputId": "0e4d4631-4446-4ab8-8483-1795bfdc500e"
      },
      "outputs": [
        {
          "output_type": "stream",
          "name": "stdout",
          "text": [
            "[1, 2, 3, 4, 5]\n"
          ]
        }
      ],
      "source": [
        "x =[1,2,3]\n",
        "x.extend([4,5])\n",
        "print(x)"
      ]
    },
    {
      "cell_type": "markdown",
      "metadata": {
        "id": "rX4lXqWxFDKg"
      },
      "source": [
        "Note how extend append each element in that iterable. That is the key difference."
      ]
    },
    {
      "cell_type": "markdown",
      "metadata": {
        "id": "wVfvwgg6FDKg"
      },
      "source": [
        "## index\n",
        "\n",
        "index returns the element placed as an argument. Make a note that if the element is not in the list then it returns an error.\n"
      ]
    },
    {
      "cell_type": "code",
      "execution_count": null,
      "metadata": {
        "colab": {
          "base_uri": "https://localhost:8080/"
        },
        "id": "0OLOe1MzFDKh",
        "outputId": "51cbc200-e39d-4379-9656-caf73e3034f0"
      },
      "outputs": [
        {
          "output_type": "stream",
          "name": "stdout",
          "text": [
            "[1, 2, 3, 4]\n"
          ]
        },
        {
          "output_type": "execute_result",
          "data": {
            "text/plain": [
              "1"
            ]
          },
          "metadata": {},
          "execution_count": 156
        }
      ],
      "source": [
        "print(l)\n",
        "l.index(2)"
      ]
    },
    {
      "cell_type": "code",
      "execution_count": null,
      "metadata": {
        "colab": {
          "base_uri": "https://localhost:8080/",
          "height": 176
        },
        "id": "vC7FO4GLFDKh",
        "outputId": "50a2d0fb-3a9d-49b2-8345-ec5c35527e7c"
      },
      "outputs": [
        {
          "output_type": "error",
          "ename": "ValueError",
          "evalue": "ignored",
          "traceback": [
            "\u001b[0;31m---------------------------------------------------------------------------\u001b[0m",
            "\u001b[0;31mValueError\u001b[0m                                Traceback (most recent call last)",
            "\u001b[0;32m<ipython-input-157-da9218b18168>\u001b[0m in \u001b[0;36m<cell line: 1>\u001b[0;34m()\u001b[0m\n\u001b[0;32m----> 1\u001b[0;31m \u001b[0ml\u001b[0m\u001b[0;34m.\u001b[0m\u001b[0mindex\u001b[0m\u001b[0;34m(\u001b[0m\u001b[0;36m12\u001b[0m\u001b[0;34m)\u001b[0m\u001b[0;34m\u001b[0m\u001b[0;34m\u001b[0m\u001b[0m\n\u001b[0m",
            "\u001b[0;31mValueError\u001b[0m: 12 is not in list"
          ]
        }
      ],
      "source": [
        "l.index(12)"
      ]
    },
    {
      "cell_type": "markdown",
      "metadata": {
        "id": "Te9S2pk4FDKh"
      },
      "source": [
        "## insert\n",
        "\n",
        "Two arguments can be placed in insert method.\n",
        "\n",
        "Syntax: insert(index,object)\n",
        "\n",
        "This method places the object at the index supplied. For example:"
      ]
    },
    {
      "cell_type": "code",
      "execution_count": null,
      "metadata": {
        "colab": {
          "base_uri": "https://localhost:8080/"
        },
        "id": "x9butOBsFDKh",
        "outputId": "ea16e4ce-031a-46e2-8b6f-5e3dd82c648a"
      },
      "outputs": [
        {
          "output_type": "execute_result",
          "data": {
            "text/plain": [
              "[1, 2, 3, 4]"
            ]
          },
          "metadata": {},
          "execution_count": 158
        }
      ],
      "source": [
        "l\n"
      ]
    },
    {
      "cell_type": "code",
      "execution_count": null,
      "metadata": {
        "id": "-7TdmTAJFDKh"
      },
      "outputs": [],
      "source": [
        "# Place a letter at the index 2\n",
        "l.insert(2,'inserted')"
      ]
    },
    {
      "cell_type": "code",
      "execution_count": null,
      "metadata": {
        "colab": {
          "base_uri": "https://localhost:8080/"
        },
        "id": "J0FjU221FDKh",
        "outputId": "2ee66bef-000e-43aa-9479-95c47f0562fc"
      },
      "outputs": [
        {
          "output_type": "execute_result",
          "data": {
            "text/plain": [
              "[1, 2, 'inserted', 3, 4]"
            ]
          },
          "metadata": {},
          "execution_count": 160
        }
      ],
      "source": [
        "l"
      ]
    },
    {
      "cell_type": "markdown",
      "metadata": {
        "id": "5aO1UrylFDKh"
      },
      "source": [
        "## pop\n",
        "You most likely have already seen pop(), which allows us to \"pop\" off the last element of a list."
      ]
    },
    {
      "cell_type": "code",
      "execution_count": null,
      "metadata": {
        "id": "Q9PUtdsiFDKh"
      },
      "outputs": [],
      "source": [
        "ele=l.pop()"
      ]
    },
    {
      "cell_type": "code",
      "execution_count": null,
      "metadata": {
        "colab": {
          "base_uri": "https://localhost:8080/"
        },
        "id": "9kHLWTapFDKh",
        "outputId": "caf7bed0-6806-4ca1-c634-b0b9cda881d8"
      },
      "outputs": [
        {
          "output_type": "execute_result",
          "data": {
            "text/plain": [
              "[1, 2, 'inserted', 3]"
            ]
          },
          "metadata": {},
          "execution_count": 162
        }
      ],
      "source": [
        "l"
      ]
    },
    {
      "cell_type": "code",
      "execution_count": null,
      "metadata": {
        "colab": {
          "base_uri": "https://localhost:8080/"
        },
        "id": "0i5fQr_kFDKh",
        "outputId": "3119e572-f40c-4cd7-91ca-e474a8a27ec1"
      },
      "outputs": [
        {
          "output_type": "execute_result",
          "data": {
            "text/plain": [
              "4"
            ]
          },
          "metadata": {},
          "execution_count": 163
        }
      ],
      "source": [
        "ele"
      ]
    },
    {
      "cell_type": "markdown",
      "metadata": {
        "id": "wvNTg86IFDKh"
      },
      "source": [
        "## remove\n",
        "The remove() method removes the first occurrence of a value. For example:"
      ]
    },
    {
      "cell_type": "code",
      "execution_count": null,
      "metadata": {
        "colab": {
          "base_uri": "https://localhost:8080/"
        },
        "id": "dXC7belbFDKh",
        "outputId": "e2bee8a7-3d32-408f-b1cb-9e0e2def01c7"
      },
      "outputs": [
        {
          "output_type": "execute_result",
          "data": {
            "text/plain": [
              "[1, 2, 'inserted', 3]"
            ]
          },
          "metadata": {},
          "execution_count": 164
        }
      ],
      "source": [
        "l"
      ]
    },
    {
      "cell_type": "code",
      "execution_count": null,
      "metadata": {
        "id": "cX5acpbIFDKh"
      },
      "outputs": [],
      "source": [
        "l.remove('inserted')"
      ]
    },
    {
      "cell_type": "code",
      "execution_count": null,
      "metadata": {
        "colab": {
          "base_uri": "https://localhost:8080/"
        },
        "id": "rQ6GwrFuFDKi",
        "outputId": "60847d92-7387-4a54-cdb0-b1514b580f8d"
      },
      "outputs": [
        {
          "output_type": "execute_result",
          "data": {
            "text/plain": [
              "[1, 2, 3]"
            ]
          },
          "metadata": {},
          "execution_count": 166
        }
      ],
      "source": [
        "l"
      ]
    },
    {
      "cell_type": "code",
      "execution_count": null,
      "metadata": {
        "id": "FHIvAmJ-FDKi"
      },
      "outputs": [],
      "source": [
        "l=[1,2,3,4,3]"
      ]
    },
    {
      "cell_type": "code",
      "execution_count": null,
      "metadata": {
        "id": "Tq2dJV0fFDKi"
      },
      "outputs": [],
      "source": [
        "l.remove(3)"
      ]
    },
    {
      "cell_type": "code",
      "execution_count": null,
      "metadata": {
        "colab": {
          "base_uri": "https://localhost:8080/"
        },
        "id": "YF2qrrCrFDKi",
        "outputId": "2e435d39-f145-49a1-84af-567d69154008"
      },
      "outputs": [
        {
          "output_type": "execute_result",
          "data": {
            "text/plain": [
              "[1, 2, 4, 3]"
            ]
          },
          "metadata": {},
          "execution_count": 169
        }
      ],
      "source": [
        "l"
      ]
    },
    {
      "cell_type": "markdown",
      "metadata": {
        "id": "qwicnfJpFDKi"
      },
      "source": [
        "## reverse\n",
        "As the name suggests, reverse() helps you to reverse a list. Note this occurs in place! Meaning it effects your list permanently."
      ]
    },
    {
      "cell_type": "code",
      "execution_count": null,
      "metadata": {
        "id": "VsVe2D60FDKi"
      },
      "outputs": [],
      "source": [
        "l.reverse()"
      ]
    },
    {
      "cell_type": "code",
      "execution_count": null,
      "metadata": {
        "colab": {
          "base_uri": "https://localhost:8080/"
        },
        "id": "dlxIqYl1FDKi",
        "outputId": "35f4f6f0-d2e2-4ac3-d96a-4130f8497a7d"
      },
      "outputs": [
        {
          "output_type": "execute_result",
          "data": {
            "text/plain": [
              "[3, 4, 2, 1]"
            ]
          },
          "metadata": {},
          "execution_count": 171
        }
      ],
      "source": [
        "l"
      ]
    },
    {
      "cell_type": "markdown",
      "metadata": {
        "id": "SoF1nTWSFDKi"
      },
      "source": [
        "## sort\n",
        "sort will sort your list in place:"
      ]
    },
    {
      "cell_type": "code",
      "execution_count": null,
      "metadata": {
        "colab": {
          "base_uri": "https://localhost:8080/"
        },
        "id": "avJjDdSQFDKi",
        "outputId": "38bac0a2-95fe-49ad-f484-9065699a26a0"
      },
      "outputs": [
        {
          "output_type": "execute_result",
          "data": {
            "text/plain": [
              "[3, 4, 2, 1]"
            ]
          },
          "metadata": {},
          "execution_count": 172
        }
      ],
      "source": [
        "l\n"
      ]
    },
    {
      "cell_type": "code",
      "execution_count": null,
      "metadata": {
        "id": "-LWZ8Q0QFDKi"
      },
      "outputs": [],
      "source": [
        "l.sort()"
      ]
    },
    {
      "cell_type": "code",
      "execution_count": null,
      "metadata": {
        "colab": {
          "base_uri": "https://localhost:8080/"
        },
        "id": "V7Bi9GgfFDKi",
        "outputId": "402bd393-3d9d-49fb-bdc3-f9f75d7b6598"
      },
      "outputs": [
        {
          "output_type": "execute_result",
          "data": {
            "text/plain": [
              "[1, 2, 3, 4]"
            ]
          },
          "metadata": {},
          "execution_count": 175
        }
      ],
      "source": [
        "l"
      ]
    },
    {
      "cell_type": "code",
      "execution_count": null,
      "metadata": {
        "id": "_SZ234s3FDKi"
      },
      "outputs": [],
      "source": []
    }
  ],
  "metadata": {
    "kernelspec": {
      "display_name": "Python 3",
      "language": "python",
      "name": "python3"
    },
    "language_info": {
      "codemirror_mode": {
        "name": "ipython",
        "version": 3
      },
      "file_extension": ".py",
      "mimetype": "text/x-python",
      "name": "python",
      "nbconvert_exporter": "python",
      "pygments_lexer": "ipython3",
      "version": "3.7.3"
    },
    "colab": {
      "provenance": [],
      "include_colab_link": true
    }
  },
  "nbformat": 4,
  "nbformat_minor": 0
}